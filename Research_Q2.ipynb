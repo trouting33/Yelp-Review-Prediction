{
 "cells": [
  {
   "cell_type": "code",
   "execution_count": 237,
   "metadata": {},
   "outputs": [],
   "source": [
    "from datetime import datetime, date\n",
    "import string\n",
    "import pandas as pd\n",
    "import numpy as np\n",
    "import re\n",
    "import nltk\n",
    "import spacy\n",
    "import re\n",
    "from nltk.corpus import stopwords\n",
    "from nltk.tokenize import word_tokenize\n",
    "from nltk.stem import WordNetLemmatizer\n",
    "from sklearn.feature_extraction.text import TfidfVectorizer\n",
    "import seaborn as sns\n",
    "\n",
    "import tensorflow as tf\n",
    "\n",
    "np.random.seed(1)\n",
    "tf.random.set_seed(1)"
   ]
  },
  {
   "cell_type": "markdown",
   "metadata": {},
   "source": [
    "# Load data"
   ]
  },
  {
   "cell_type": "code",
   "execution_count": 238,
   "metadata": {},
   "outputs": [],
   "source": [
    "custom_date_parser = lambda x: datetime.strptime(x, \"%m/%d/%Y\")\n",
    "\n",
    "df_latest = pd.read_csv(\"final_postcovid.csv\", parse_dates=['date'], date_parser=custom_date_parser)\n",
    "df_earliest = pd.read_csv(\"final_precovid.csv\", parse_dates=['date'], date_parser=custom_date_parser)"
   ]
  },
  {
   "cell_type": "markdown",
   "metadata": {},
   "source": [
    "# Data preprocess\n",
    "### Cleaning reviews"
   ]
  },
  {
   "cell_type": "code",
   "execution_count": 239,
   "metadata": {},
   "outputs": [],
   "source": [
    "nlp = spacy.load('en_core_web_sm', disable=['parser', 'ner'])\n",
    "\n",
    "def comment_preprocess(text):\n",
    "    text = text.lower()\n",
    "    text = re.sub(\"won\\'t\", \"will not\", text)\n",
    "    text = re.sub(\"can\\'t\", \"can not\", text)\n",
    "    text = re.sub(\"don\\'t\", \"do not\", text)\n",
    "    text = re.sub(\"didn\\'t\", \"did not\", text)\n",
    "    text = re.sub(\"shouldn\\'t\", \"should not\", text)\n",
    "    text = re.sub(\"\\'ll\", \"will\", text)\n",
    "    \n",
    "    text = re.sub('http[s]?://(?:[a-zA-Z]|[0-9]|[$-_@.&+#]|[!*\\(\\),]|'\\\n",
    "                       '(?:%[0-9a-fA-F][0-9a-fA-F]))+',' ', text)\n",
    "    text = re.sub(r'&amp?;',' ', text)\n",
    "    text = re.sub(r'&lt;',' ', text)\n",
    "    text = re.sub(r'&gt;',' ', text)\n",
    "    \n",
    "    text = re.sub(r'\\d{2}:\\d{2}:\\d{2}', ' ', text)\n",
    "    text = re.sub(r'UTC', ' ', text)\n",
    "    text = re.sub(r'\\d{2}km', ' ', text)\n",
    "    text = re.sub(r\"\\b\\d+\\b\", \" \", text) # removing the numbers\n",
    "\n",
    "    text = re.sub(r\"#\",\"\",text) \n",
    "    text = re.sub(r\"(?:\\@)\\w+\", ' ', text)\n",
    "    text = re.sub(r'\\n', ' ', text)\n",
    "    \n",
    "    text = text.translate(str.maketrans(string.punctuation, ' '*len(string.punctuation)))\n",
    "    text = re.sub(' +', ' ', text) # remove multiple spaces\n",
    "    \n",
    "    # text = [word for word in word_tokenize(text) if not word in stopwords.words('english')]\n",
    "    doc = nlp(text)\n",
    "    text = \" \".join([token.lemma_ for token in doc])\n",
    "    \n",
    "    return text"
   ]
  },
  {
   "cell_type": "code",
   "execution_count": 240,
   "metadata": {},
   "outputs": [],
   "source": [
    "df_latest[\"Comment\"] = df_latest[\"Comment\"].apply(comment_preprocess)\n",
    "df_earliest[\"Comment\"] = df_latest[\"Comment\"].apply(comment_preprocess)"
   ]
  },
  {
   "cell_type": "markdown",
   "metadata": {},
   "source": [
    "### Cleaning ratings\n",
    "1 star and 2 star ratings are converted to \"bad rating\" (0) while 4 star and 5 star ratings are converted to \"good rating\" (1). 3 star rating data are removed."
   ]
  },
  {
   "cell_type": "code",
   "execution_count": 241,
   "metadata": {},
   "outputs": [],
   "source": [
    "df_latest[\"Rating\"].replace({\"1 star rating\": 0, \"2 star rating\": 0, \"4 star rating\": 1, \"5 star rating\": 1}, inplace=True)\n",
    "df_earliest[\"Rating\"].replace({\"1 star rating\": 0, \"2 star rating\": 0, \"4 star rating\": 1, \"5 star rating\": 1}, inplace=True)"
   ]
  },
  {
   "cell_type": "code",
   "execution_count": 242,
   "metadata": {},
   "outputs": [
    {
     "name": "stderr",
     "output_type": "stream",
     "text": [
      "c:\\users\\w2673\\appdata\\local\\programs\\python\\python37\\lib\\site-packages\\seaborn\\_decorators.py:43: FutureWarning: Pass the following variables as keyword args: x, y. From version 0.12, the only valid positional argument will be `data`, and passing other arguments without an explicit keyword will result in an error or misinterpretation.\n",
      "  FutureWarning\n"
     ]
    },
    {
     "data": {
      "text/plain": [
       "1                1661\n",
       "0                 401\n",
       "3 star rating     320\n",
       "Name: Rating, dtype: int64"
      ]
     },
     "execution_count": 242,
     "metadata": {},
     "output_type": "execute_result"
    },
    {
     "data": {
      "image/png": "[encoded data removed]",
      "text/plain": [
       "<Figure size 432x288 with 1 Axes>"
      ]
     },
     "metadata": {
      "needs_background": "light"
     },
     "output_type": "display_data"
    }
   ],
   "source": [
    "count = df_earliest['Rating'].value_counts()\n",
    "sns.barplot(count.index, count)\n",
    "count"
   ]
  },
  {
   "cell_type": "code",
   "execution_count": 243,
   "metadata": {},
   "outputs": [
    {
     "name": "stderr",
     "output_type": "stream",
     "text": [
      "c:\\users\\w2673\\appdata\\local\\programs\\python\\python37\\lib\\site-packages\\seaborn\\_decorators.py:43: FutureWarning: Pass the following variables as keyword args: x, y. From version 0.12, the only valid positional argument will be `data`, and passing other arguments without an explicit keyword will result in an error or misinterpretation.\n",
      "  FutureWarning\n"
     ]
    },
    {
     "data": {
      "text/plain": [
       "1                1566\n",
       "0                 588\n",
       "3 star rating     253\n",
       "Name: Rating, dtype: int64"
      ]
     },
     "execution_count": 243,
     "metadata": {},
     "output_type": "execute_result"
    },
    {
     "data": {
      "image/png": "[encoded data removed]",
      "text/plain": [
       "<Figure size 432x288 with 1 Axes>"
      ]
     },
     "metadata": {
      "needs_background": "light"
     },
     "output_type": "display_data"
    }
   ],
   "source": [
    "count = df_latest['Rating'].value_counts()\n",
    "sns.barplot(count.index, count)\n",
    "count"
   ]
  },
  {
   "cell_type": "code",
   "execution_count": 244,
   "metadata": {},
   "outputs": [],
   "source": [
    "df_latest = df_latest[df_latest['Rating'] != '3 star rating']\n",
    "df_earliest = df_earliest[df_earliest['Rating'] != '3 star rating']"
   ]
  },
  {
   "cell_type": "markdown",
   "metadata": {},
   "source": [
    "# Feature Engineering\n",
    "Create column based on the timestamp of data"
   ]
  },
  {
   "cell_type": "code",
   "execution_count": 245,
   "metadata": {},
   "outputs": [],
   "source": [
    "# Let postcovid be 1 and precovid be 0\n",
    "df_latest['Time'] = 1\n",
    "df_earliest['Time'] = 0"
   ]
  },
  {
   "cell_type": "markdown",
   "metadata": {},
   "source": [
    "Combine data from files and split the data into training / testing sets"
   ]
  },
  {
   "cell_type": "code",
   "execution_count": 246,
   "metadata": {},
   "outputs": [],
   "source": [
    "df = pd.concat([df_latest[['Comment', 'Rating']], df_earliest[['Comment', 'Rating']]])"
   ]
  },
  {
   "cell_type": "code",
   "execution_count": 247,
   "metadata": {},
   "outputs": [],
   "source": [
    "from sklearn.model_selection import train_test_split\n",
    "\n",
    "X_train, X_test, y_train, y_test = train_test_split(df['Comment'], df['Rating'].astype(\"int\"), \n",
    "                                                    test_size = 0.20, random_state = 42)"
   ]
  },
  {
   "cell_type": "markdown",
   "metadata": {},
   "source": [
    "# Modeling \n",
    "## Vader Polarity Analysis"
   ]
  },
  {
   "cell_type": "code",
   "execution_count": 248,
   "metadata": {},
   "outputs": [],
   "source": [
    "from nltk.sentiment.vader import SentimentIntensityAnalyzer\n",
    "from nltk import tokenize\n",
    "\n",
    "def VADER_predict(inputs):\n",
    "\n",
    "    sid = SentimentIntensityAnalyzer()\n",
    "    predicts = []\n",
    "    \n",
    "    for input in inputs:\n",
    "        score = sid.polarity_scores(input)['compound']\n",
    "        if score>0:\n",
    "            predicts.append(1)\n",
    "        else:\n",
    "            predicts.append(0)\n",
    "  \n",
    "    return predicts"
   ]
  },
  {
   "cell_type": "code",
   "execution_count": 249,
   "metadata": {},
   "outputs": [],
   "source": [
    "train_pred = VADER_predict(X_train)"
   ]
  },
  {
   "cell_type": "code",
   "execution_count": 250,
   "metadata": {},
   "outputs": [
    {
     "name": "stdout",
     "output_type": "stream",
     "text": [
      "              precision    recall  f1-score   support\n",
      "\n",
      "  bad rating       0.57      0.40      0.47       796\n",
      " good rating       0.83      0.91      0.87      2576\n",
      "\n",
      "    accuracy                           0.79      3372\n",
      "   macro avg       0.70      0.65      0.67      3372\n",
      "weighted avg       0.77      0.79      0.77      3372\n",
      "\n"
     ]
    }
   ],
   "source": [
    "from sklearn.metrics import classification_report\n",
    "\n",
    "target_names = ['bad rating', 'good rating']\n",
    "print(classification_report(y_train.astype(\"int\"), train_pred, target_names=target_names))"
   ]
  },
  {
   "cell_type": "markdown",
   "metadata": {},
   "source": [
    "## Word2Vec using Gensim\n",
    "Stochastic Logistic Regression is applied to model word vectors"
   ]
  },
  {
   "cell_type": "code",
   "execution_count": 251,
   "metadata": {},
   "outputs": [
    {
     "name": "stderr",
     "output_type": "stream",
     "text": [
      "WARNING:gensim.models.word2vec:Each 'sentences' item should be a list of words (usually unicode strings). First item here is instead plain <class 'str'>.\n"
     ]
    },
    {
     "data": {
      "text/plain": [
       "(492862, 2862308)"
      ]
     },
     "execution_count": 251,
     "metadata": {},
     "output_type": "execute_result"
    }
   ],
   "source": [
    "from gensim.models.word2vec import Word2Vec\n",
    "\n",
    "x_train = X_train\n",
    "x_test = X_test\n",
    "n_dim = 300\n",
    "#Initialize model and build vocab\n",
    "yelp_w2v = Word2Vec(vector_size=n_dim, min_count=10)\n",
    "yelp_w2v.build_vocab(X_train)\n",
    "#Train the model over train_reviews (this may take several minutes)\n",
    "yelp_w2v.train(X_train, total_examples=len(X_train), epochs=2)"
   ]
  },
  {
   "cell_type": "code",
   "execution_count": 252,
   "metadata": {},
   "outputs": [],
   "source": [
    "def buildWordVector(text, size):\n",
    "    vec = np.zeros(size).reshape((1, size))\n",
    "    count = 0.\n",
    "    for word in text:\n",
    "        try:\n",
    "            vec += yelp_w2v.wv[word].reshape((1, size))\n",
    "            count += 1.\n",
    "        except KeyError:\n",
    "            continue\n",
    "    if count != 0:\n",
    "        vec /= count\n",
    "    return vec"
   ]
  },
  {
   "cell_type": "code",
   "execution_count": 253,
   "metadata": {},
   "outputs": [
    {
     "name": "stderr",
     "output_type": "stream",
     "text": [
      "WARNING:gensim.models.word2vec:Effective 'alpha' higher than previous training cycles\n"
     ]
    },
    {
     "data": {
      "text/plain": [
       "(118018, 685588)"
      ]
     },
     "execution_count": 253,
     "metadata": {},
     "output_type": "execute_result"
    }
   ],
   "source": [
    "from sklearn.preprocessing import scale\n",
    "train_vecs = np.concatenate([buildWordVector(z, n_dim) for z in x_train])\n",
    "train_vecs = scale(train_vecs)\n",
    "#Train word2vec on test tweets\n",
    "yelp_w2v.train(X_test, total_examples=len(X_test), epochs=2)"
   ]
  },
  {
   "cell_type": "code",
   "execution_count": 254,
   "metadata": {},
   "outputs": [],
   "source": [
    "#Build test tweet vectors then scale\n",
    "test_vecs = np.concatenate([buildWordVector(z, n_dim) for z in x_test])\n",
    "test_vecs = scale(test_vecs)"
   ]
  },
  {
   "cell_type": "code",
   "execution_count": 255,
   "metadata": {},
   "outputs": [
    {
     "name": "stdout",
     "output_type": "stream",
     "text": [
      "Test Accuracy: 0.71\n"
     ]
    }
   ],
   "source": [
    "#Use classification algorithm (i.e. Stochastic Logistic Regression) on training set, then assess model performance on test set\n",
    "from sklearn.linear_model import SGDClassifier\n",
    "lr = SGDClassifier(loss='log', penalty='l2')\n",
    "lr.fit(train_vecs, y_train)\n",
    "print('Test Accuracy: %.2f'%lr.score(test_vecs, y_test))"
   ]
  },
  {
   "cell_type": "code",
   "execution_count": 256,
   "metadata": {},
   "outputs": [
    {
     "name": "stdout",
     "output_type": "stream",
     "text": [
      "              precision    recall  f1-score   support\n",
      "\n",
      "  bad rating       0.28      0.18      0.22       193\n",
      " good rating       0.78      0.87      0.82       651\n",
      "\n",
      "    accuracy                           0.71       844\n",
      "   macro avg       0.53      0.52      0.52       844\n",
      "weighted avg       0.67      0.71      0.68       844\n",
      "\n"
     ]
    }
   ],
   "source": [
    "test_pred = lr.predict(test_vecs)\n",
    "target_names = ['bad rating', 'good rating']\n",
    "print(classification_report(y_test, test_pred, target_names=target_names))"
   ]
  },
  {
   "cell_type": "markdown",
   "metadata": {},
   "source": [
    "## LSTM"
   ]
  },
  {
   "cell_type": "code",
   "execution_count": 297,
   "metadata": {},
   "outputs": [
    {
     "name": "stderr",
     "output_type": "stream",
     "text": [
      "[nltk_data] Downloading package stopwords to\n",
      "[nltk_data]     C:\\Users\\w2673\\AppData\\Roaming\\nltk_data...\n",
      "[nltk_data]   Package stopwords is already up-to-date!\n",
      "[nltk_data] Downloading package punkt to\n",
      "[nltk_data]     C:\\Users\\w2673\\AppData\\Roaming\\nltk_data...\n",
      "[nltk_data]   Package punkt is already up-to-date!\n"
     ]
    }
   ],
   "source": [
    "nltk.download('stopwords')\n",
    "nltk.download('punkt')\n",
    "STOPWORDS = set(stopwords.words('english'))"
   ]
  },
  {
   "cell_type": "markdown",
   "metadata": {},
   "source": [
    "Here we have to reload the data because we need to re-clean our data for Deep Learning based models"
   ]
  },
  {
   "cell_type": "code",
   "execution_count": 298,
   "metadata": {},
   "outputs": [
    {
     "data": {
      "text/html": [
       "<div>\n",
       "<style scoped>\n",
       "    .dataframe tbody tr th:only-of-type {\n",
       "        vertical-align: middle;\n",
       "    }\n",
       "\n",
       "    .dataframe tbody tr th {\n",
       "        vertical-align: top;\n",
       "    }\n",
       "\n",
       "    .dataframe thead th {\n",
       "        text-align: right;\n",
       "    }\n",
       "</style>\n",
       "<table border=\"1\" class=\"dataframe\">\n",
       "  <thead>\n",
       "    <tr style=\"text-align: right;\">\n",
       "      <th></th>\n",
       "      <th>id</th>\n",
       "      <th>Comment</th>\n",
       "      <th>Rating</th>\n",
       "      <th>date</th>\n",
       "      <th>restaurant</th>\n",
       "      <th>restaurant rating</th>\n",
       "      <th>ammenity</th>\n",
       "      <th>notammenity</th>\n",
       "    </tr>\n",
       "  </thead>\n",
       "  <tbody>\n",
       "    <tr>\n",
       "      <th>0</th>\n",
       "      <td>0</td>\n",
       "      <td>I was trying to order pick up on a Friday nigh...</td>\n",
       "      <td>1 star rating</td>\n",
       "      <td>11/12/2021</td>\n",
       "      <td>Grand Vin</td>\n",
       "      <td>3 star rating</td>\n",
       "      <td>Takes Reservations\\nOffers Delivery\\nOffers Ta...</td>\n",
       "      <td>Accepts Apple Pay\\nNot Good For Dancing\\nNo Sm...</td>\n",
       "    </tr>\n",
       "    <tr>\n",
       "      <th>1</th>\n",
       "      <td>1</td>\n",
       "      <td>walking around hoboken with hubby looking for ...</td>\n",
       "      <td>5 star rating</td>\n",
       "      <td>11/10/2021</td>\n",
       "      <td>Grand Vin</td>\n",
       "      <td>3 star rating</td>\n",
       "      <td>Takes Reservations\\nOffers Delivery\\nOffers Ta...</td>\n",
       "      <td>Accepts Apple Pay\\nNot Good For Dancing\\nNo Sm...</td>\n",
       "    </tr>\n",
       "    <tr>\n",
       "      <th>2</th>\n",
       "      <td>2</td>\n",
       "      <td>Grand Vin is a staple for drinks and dinner. R...</td>\n",
       "      <td>4 star rating</td>\n",
       "      <td>11/5/2021</td>\n",
       "      <td>Grand Vin</td>\n",
       "      <td>3 star rating</td>\n",
       "      <td>Takes Reservations\\nOffers Delivery\\nOffers Ta...</td>\n",
       "      <td>Accepts Apple Pay\\nNot Good For Dancing\\nNo Sm...</td>\n",
       "    </tr>\n",
       "  </tbody>\n",
       "</table>\n",
       "</div>"
      ],
      "text/plain": [
       "   id                                            Comment         Rating  \\\n",
       "0   0  I was trying to order pick up on a Friday nigh...  1 star rating   \n",
       "1   1  walking around hoboken with hubby looking for ...  5 star rating   \n",
       "2   2  Grand Vin is a staple for drinks and dinner. R...  4 star rating   \n",
       "\n",
       "         date restaurant restaurant rating  \\\n",
       "0  11/12/2021  Grand Vin     3 star rating   \n",
       "1  11/10/2021  Grand Vin     3 star rating   \n",
       "2   11/5/2021  Grand Vin     3 star rating   \n",
       "\n",
       "                                            ammenity  \\\n",
       "0  Takes Reservations\\nOffers Delivery\\nOffers Ta...   \n",
       "1  Takes Reservations\\nOffers Delivery\\nOffers Ta...   \n",
       "2  Takes Reservations\\nOffers Delivery\\nOffers Ta...   \n",
       "\n",
       "                                         notammenity  \n",
       "0  Accepts Apple Pay\\nNot Good For Dancing\\nNo Sm...  \n",
       "1  Accepts Apple Pay\\nNot Good For Dancing\\nNo Sm...  \n",
       "2  Accepts Apple Pay\\nNot Good For Dancing\\nNo Sm...  "
      ]
     },
     "execution_count": 298,
     "metadata": {},
     "output_type": "execute_result"
    }
   ],
   "source": [
    "df_post= pd.read_csv('final_postcovid.csv')\n",
    "df_post.rename(columns={'Unnamed: 0':'id'}, inplace=True)\n",
    "df_post.head(3)"
   ]
  },
  {
   "cell_type": "code",
   "execution_count": 299,
   "metadata": {},
   "outputs": [
    {
     "data": {
      "text/html": [
       "<div>\n",
       "<style scoped>\n",
       "    .dataframe tbody tr th:only-of-type {\n",
       "        vertical-align: middle;\n",
       "    }\n",
       "\n",
       "    .dataframe tbody tr th {\n",
       "        vertical-align: top;\n",
       "    }\n",
       "\n",
       "    .dataframe thead th {\n",
       "        text-align: right;\n",
       "    }\n",
       "</style>\n",
       "<table border=\"1\" class=\"dataframe\">\n",
       "  <thead>\n",
       "    <tr style=\"text-align: right;\">\n",
       "      <th></th>\n",
       "      <th>id</th>\n",
       "      <th>Comment</th>\n",
       "      <th>Rating</th>\n",
       "      <th>date</th>\n",
       "      <th>restaurant</th>\n",
       "      <th>restaurant rating</th>\n",
       "      <th>ammenity</th>\n",
       "      <th>notammenity</th>\n",
       "    </tr>\n",
       "  </thead>\n",
       "  <tbody>\n",
       "    <tr>\n",
       "      <th>0</th>\n",
       "      <td>0</td>\n",
       "      <td>Came down for a quick bite after a long day. W...</td>\n",
       "      <td>2 star rating</td>\n",
       "      <td>3/2/2016</td>\n",
       "      <td>Grand Vin</td>\n",
       "      <td>3 star rating</td>\n",
       "      <td>Takes Reservations\\nOffers Delivery\\nOffers Ta...</td>\n",
       "      <td>Accepts Apple Pay\\nNot Good For Dancing\\nNo Sm...</td>\n",
       "    </tr>\n",
       "    <tr>\n",
       "      <th>1</th>\n",
       "      <td>1</td>\n",
       "      <td>Ate dinner at Grand Vin last night - was not d...</td>\n",
       "      <td>5 star rating</td>\n",
       "      <td>3/2/2016</td>\n",
       "      <td>Grand Vin</td>\n",
       "      <td>3 star rating</td>\n",
       "      <td>Takes Reservations\\nOffers Delivery\\nOffers Ta...</td>\n",
       "      <td>Accepts Apple Pay\\nNot Good For Dancing\\nNo Sm...</td>\n",
       "    </tr>\n",
       "    <tr>\n",
       "      <th>2</th>\n",
       "      <td>2</td>\n",
       "      <td>Excellent date spot or night out. Had the veal...</td>\n",
       "      <td>5 star rating</td>\n",
       "      <td>3/4/2016</td>\n",
       "      <td>Grand Vin</td>\n",
       "      <td>3 star rating</td>\n",
       "      <td>Takes Reservations\\nOffers Delivery\\nOffers Ta...</td>\n",
       "      <td>Accepts Apple Pay\\nNot Good For Dancing\\nNo Sm...</td>\n",
       "    </tr>\n",
       "  </tbody>\n",
       "</table>\n",
       "</div>"
      ],
      "text/plain": [
       "   id                                            Comment         Rating  \\\n",
       "0   0  Came down for a quick bite after a long day. W...  2 star rating   \n",
       "1   1  Ate dinner at Grand Vin last night - was not d...  5 star rating   \n",
       "2   2  Excellent date spot or night out. Had the veal...  5 star rating   \n",
       "\n",
       "       date restaurant restaurant rating  \\\n",
       "0  3/2/2016  Grand Vin     3 star rating   \n",
       "1  3/2/2016  Grand Vin     3 star rating   \n",
       "2  3/4/2016  Grand Vin     3 star rating   \n",
       "\n",
       "                                            ammenity  \\\n",
       "0  Takes Reservations\\nOffers Delivery\\nOffers Ta...   \n",
       "1  Takes Reservations\\nOffers Delivery\\nOffers Ta...   \n",
       "2  Takes Reservations\\nOffers Delivery\\nOffers Ta...   \n",
       "\n",
       "                                         notammenity  \n",
       "0  Accepts Apple Pay\\nNot Good For Dancing\\nNo Sm...  \n",
       "1  Accepts Apple Pay\\nNot Good For Dancing\\nNo Sm...  \n",
       "2  Accepts Apple Pay\\nNot Good For Dancing\\nNo Sm...  "
      ]
     },
     "execution_count": 299,
     "metadata": {},
     "output_type": "execute_result"
    }
   ],
   "source": [
    "df_pre= pd.read_csv('final_precovid.csv')\n",
    "df_pre.rename(columns={'Unnamed: 0':'id'}, inplace=True)\n",
    "df_pre.head(3)"
   ]
  },
  {
   "cell_type": "code",
   "execution_count": 300,
   "metadata": {},
   "outputs": [],
   "source": [
    "df_post[\"Rating\"].replace({\"1 star rating\": \"negative\", \"2 star rating\": \"negative\", \"4 star rating\": \"positive\", \"5 star rating\": \"positive\"}, inplace=True)\n",
    "df_pre[\"Rating\"].replace({\"1 star rating\": \"negative\", \"2 star rating\": \"negative\", \"4 star rating\": \"positive\", \"5 star rating\": \"positive\"}, inplace=True)"
   ]
  },
  {
   "cell_type": "code",
   "execution_count": 301,
   "metadata": {},
   "outputs": [],
   "source": [
    "df_post = df_post[df_post['Rating'] != '3 star rating']\n",
    "df_pre = df_pre[df_pre['Rating'] != '3 star rating']\n",
    "df_post = df_post[['Comment','Rating']]\n",
    "df_pre = df_pre[['Comment','Rating']]\n",
    "df = pd.concat([df_post,df_pre])"
   ]
  },
  {
   "cell_type": "code",
   "execution_count": 302,
   "metadata": {},
   "outputs": [],
   "source": [
    "df['Comment'] = df['Comment'].str.lower()\n",
    "REPLACE_BY_SPACE_RE = re.compile('[/(){}\\[\\]\\|@,;]')\n",
    "BAD_SYMBOLS_RE = re.compile('[^0-9a-z #+_]')\n",
    "STOPWORDS = set(stopwords.words('english'))\n",
    "\n",
    "def clean_text(text):\n",
    "    \"\"\"\n",
    "        text: a string\n",
    "        \n",
    "        return: modified initial string\n",
    "    \"\"\"\n",
    "    text = text.lower() # lowercase text\n",
    "    text = REPLACE_BY_SPACE_RE.sub(' ', text) # replace REPLACE_BY_SPACE_RE symbols by space in text. substitute the matched string in REPLACE_BY_SPACE_RE with space.\n",
    "    text = BAD_SYMBOLS_RE.sub('', text) # remove symbols which are in BAD_SYMBOLS_RE from text. substitute the matched string in BAD_SYMBOLS_RE with nothing. \n",
    "    text = text.replace('x', '')\n",
    "    #text = re.sub(r'\\W+', '', text)\n",
    "    #text = ' '.join(word for word in text.split() if word not in STOPWORDS) # remove stopwords from text\n",
    "    return text\n",
    "df['Comment'] = df['Comment'].apply(clean_text)"
   ]
  },
  {
   "cell_type": "code",
   "execution_count": 303,
   "metadata": {},
   "outputs": [
    {
     "name": "stdout",
     "output_type": "stream",
     "text": [
      "max length of input  sentences: 4192\n"
     ]
    }
   ],
   "source": [
    "max_encoder_seq_length = max(len(line) for line in df['Comment'])\n",
    "\n",
    "print('max length of input  sentences: %d' % (max_encoder_seq_length))"
   ]
  },
  {
   "cell_type": "code",
   "execution_count": 304,
   "metadata": {},
   "outputs": [
    {
     "data": {
      "text/plain": [
       "(4216, 30)"
      ]
     },
     "execution_count": 304,
     "metadata": {},
     "output_type": "execute_result"
    }
   ],
   "source": [
    "from keras.preprocessing.text import Tokenizer\n",
    "\n",
    "vocabulary = 400\n",
    "tokenizer = Tokenizer(num_words=vocabulary)\n",
    "tokenizer.fit_on_texts(df['Comment'])\n",
    "word_index = tokenizer.word_index\n",
    "sequences_train = tokenizer.texts_to_sequences(df['Comment'])\n",
    "\n",
    "from keras import preprocessing\n",
    "word_num = 30\n",
    "X = preprocessing.sequence.pad_sequences(sequences_train, word_num)\n",
    "X.shape"
   ]
  },
  {
   "cell_type": "markdown",
   "metadata": {},
   "source": [
    "### Re-split data"
   ]
  },
  {
   "cell_type": "code",
   "execution_count": 305,
   "metadata": {},
   "outputs": [],
   "source": [
    "Y = df['Rating']\n",
    "Y = pd.get_dummies(Y).values\n",
    "X_train, X_test, Y_train, Y_test = train_test_split(X,Y, test_size = 0.20, random_state = 42)\n"
   ]
  },
  {
   "cell_type": "markdown",
   "metadata": {},
   "source": [
    "We put Embedding layer, Spatial Dropout=0.2, LSTM layer and finally a 2-node layer for binary classification"
   ]
  },
  {
   "cell_type": "code",
   "execution_count": 266,
   "metadata": {},
   "outputs": [
    {
     "name": "stdout",
     "output_type": "stream",
     "text": [
      "Model: \"sequential_11\"\n",
      "_________________________________________________________________\n",
      "Layer (type)                 Output Shape              Param #   \n",
      "=================================================================\n",
      "embedding_11 (Embedding)     (None, 30, 128)           51200     \n",
      "_________________________________________________________________\n",
      "spatial_dropout1d_7 (Spatial (None, 30, 128)           0         \n",
      "_________________________________________________________________\n",
      "lstm_7 (LSTM)                (None, 64)                49408     \n",
      "_________________________________________________________________\n",
      "dense_12 (Dense)             (None, 2)                 130       \n",
      "=================================================================\n",
      "Total params: 100,738\n",
      "Trainable params: 100,738\n",
      "Non-trainable params: 0\n",
      "_________________________________________________________________\n",
      "None\n"
     ]
    }
   ],
   "source": [
    "import keras\n",
    "from keras.models import Sequential\n",
    "from keras.layers import Dense, Embedding, LSTM, SpatialDropout1D\n",
    "from sklearn.model_selection import train_test_split\n",
    "from keras.utils.np_utils import to_categorical\n",
    "from keras.callbacks import EarlyStopping\n",
    "from keras.layers import Dropout\n",
    "from keras import regularizers\n",
    "\n",
    "# LSTM\n",
    "embed_dim = 128\n",
    "lstm_out = 64\n",
    "\n",
    "model = Sequential()\n",
    "model.add(Embedding(vocabulary, embed_dim,input_length = X.shape[1]))\n",
    "model.add(SpatialDropout1D(0.2))\n",
    "model.add(LSTM(lstm_out, dropout=0.2, recurrent_dropout=0.2,kernel_regularizer=regularizers.l2(0.002)))\n",
    "model.add(Dense(2,activation='sigmoid'))\n",
    "es = EarlyStopping(monitor='val_loss', mode='min', verbose=1, patience=3)\n",
    "model.compile(loss='binary_crossentropy', optimizer='adam', metrics=['accuracy', keras.metrics.Recall(), keras.metrics.Precision()])\n",
    "print(model.summary())"
   ]
  },
  {
   "cell_type": "markdown",
   "metadata": {},
   "source": [
    "We train our model with up to 30 epochs. This would be terminated by early stopping if the accuracy stagnates."
   ]
  },
  {
   "cell_type": "code",
   "execution_count": 267,
   "metadata": {},
   "outputs": [
    {
     "name": "stdout",
     "output_type": "stream",
     "text": [
      "Epoch 1/30\n",
      "106/106 [==============================] - 9s 37ms/step - loss: 0.6179 - accuracy: 0.7891 - recall_6: 0.7906 - precision_6: 0.7885 - val_loss: 0.3665 - val_accuracy: 0.8519 - val_recall_6: 0.8507 - val_precision_6: 0.8507\n",
      "Epoch 2/30\n",
      "106/106 [==============================] - 3s 30ms/step - loss: 0.3423 - accuracy: 0.8719 - recall_6: 0.8725 - precision_6: 0.8707 - val_loss: 0.3168 - val_accuracy: 0.8637 - val_recall_6: 0.8649 - val_precision_6: 0.8639\n",
      "Epoch 3/30\n",
      "106/106 [==============================] - 3s 30ms/step - loss: 0.2932 - accuracy: 0.8861 - recall_6: 0.8864 - precision_6: 0.8862 - val_loss: 0.3124 - val_accuracy: 0.8720 - val_recall_6: 0.8720 - val_precision_6: 0.8720\n",
      "Epoch 4/30\n",
      "106/106 [==============================] - 3s 27ms/step - loss: 0.2773 - accuracy: 0.8867 - recall_6: 0.8876 - precision_6: 0.8860 - val_loss: 0.3145 - val_accuracy: 0.8614 - val_recall_6: 0.8637 - val_precision_6: 0.8617\n",
      "Epoch 5/30\n",
      "106/106 [==============================] - 3s 27ms/step - loss: 0.2706 - accuracy: 0.8974 - recall_6: 0.8983 - precision_6: 0.8972 - val_loss: 0.3062 - val_accuracy: 0.8720 - val_recall_6: 0.8720 - val_precision_6: 0.8710\n",
      "Epoch 6/30\n",
      "106/106 [==============================] - 3s 27ms/step - loss: 0.2543 - accuracy: 0.8971 - recall_6: 0.8980 - precision_6: 0.8964 - val_loss: 0.3073 - val_accuracy: 0.8685 - val_recall_6: 0.8673 - val_precision_6: 0.8683\n",
      "Epoch 7/30\n",
      "106/106 [==============================] - 3s 30ms/step - loss: 0.2501 - accuracy: 0.9051 - recall_6: 0.9054 - precision_6: 0.9043 - val_loss: 0.3170 - val_accuracy: 0.8495 - val_recall_6: 0.8507 - val_precision_6: 0.8497\n",
      "Epoch 8/30\n",
      "106/106 [==============================] - 3s 27ms/step - loss: 0.2393 - accuracy: 0.9090 - recall_6: 0.9090 - precision_6: 0.9087 - val_loss: 0.3749 - val_accuracy: 0.8649 - val_recall_6: 0.8661 - val_precision_6: 0.8651\n",
      "Epoch 00008: early stopping\n"
     ]
    }
   ],
   "source": [
    "batch_size = 32\n",
    "history = model.fit(X_train, Y_train, epochs = 30, batch_size=batch_size,validation_data=(X_test,Y_test),verbose = True,callbacks=[es])"
   ]
  },
  {
   "cell_type": "code",
   "execution_count": 268,
   "metadata": {},
   "outputs": [
    {
     "name": "stdout",
     "output_type": "stream",
     "text": [
      "27/27 [==============================] - 0s 5ms/step - loss: 0.3749 - accuracy: 0.8649 - recall_6: 0.8661 - precision_6: 0.8651\n",
      "Test set\n",
      "  Loss: 0.375\n",
      "  Accuracy: 0.865\n"
     ]
    },
    {
     "data": {
      "image/png": "[encoded data removed]",
      "text/plain": [
       "<Figure size 432x288 with 1 Axes>"
      ]
     },
     "metadata": {
      "needs_background": "light"
     },
     "output_type": "display_data"
    },
    {
     "data": {
      "image/png": "[encoded data removed]",
      "text/plain": [
       "<Figure size 432x288 with 1 Axes>"
      ]
     },
     "metadata": {
      "needs_background": "light"
     },
     "output_type": "display_data"
    }
   ],
   "source": [
    "import matplotlib.pyplot as plt\n",
    "\n",
    "accr = model.evaluate(X_test,Y_test)\n",
    "print('Test set\\n  Loss: {:0.3f}\\n  Accuracy: {:0.3f}'.format(accr[0],accr[1]))\n",
    "\n",
    "plt.title('Loss')\n",
    "plt.plot(history.history['loss'], label='train')\n",
    "plt.plot(history.history['val_loss'], label='test')\n",
    "plt.legend()\n",
    "plt.show();\n",
    "\n",
    "plt.title('Accuracy')\n",
    "plt.plot(history.history['accuracy'], label='train')\n",
    "plt.plot(history.history['val_accuracy'], label='test')\n",
    "plt.legend()\n",
    "plt.show();"
   ]
  },
  {
   "cell_type": "code",
   "execution_count": 295,
   "metadata": {},
   "outputs": [],
   "source": [
    "def one_hot_category_transfer(Y):\n",
    "    wi=[]\n",
    "    for y in Y:\n",
    "        wi.append(np.argmax(y))\n",
    "    return wi"
   ]
  },
  {
   "cell_type": "code",
   "execution_count": 296,
   "metadata": {},
   "outputs": [
    {
     "name": "stdout",
     "output_type": "stream",
     "text": [
      "WARNING:tensorflow:Model was constructed with shape (None, 30) for input KerasTensor(type_spec=TensorSpec(shape=(None, 30), dtype=tf.float32, name='embedding_14_input'), name='embedding_14_input', description=\"created by layer 'embedding_14_input'\"), but it was called on an input with incompatible shape (None, 12926).\n"
     ]
    },
    {
     "name": "stderr",
     "output_type": "stream",
     "text": [
      "WARNING:tensorflow:Model was constructed with shape (None, 30) for input KerasTensor(type_spec=TensorSpec(shape=(None, 30), dtype=tf.float32, name='embedding_14_input'), name='embedding_14_input', description=\"created by layer 'embedding_14_input'\"), but it was called on an input with incompatible shape (None, 12926).\n"
     ]
    },
    {
     "name": "stdout",
     "output_type": "stream",
     "text": [
      "              precision    recall  f1-score   support\n",
      "\n",
      "  bad rating       0.00      0.00      0.00       193\n",
      " good rating       0.77      1.00      0.87       651\n",
      "\n",
      "    accuracy                           0.77       844\n",
      "   macro avg       0.39      0.50      0.44       844\n",
      "weighted avg       0.59      0.77      0.67       844\n",
      "\n"
     ]
    },
    {
     "name": "stderr",
     "output_type": "stream",
     "text": [
      "c:\\users\\w2673\\appdata\\local\\programs\\python\\python37\\lib\\site-packages\\sklearn\\metrics\\_classification.py:1308: UndefinedMetricWarning: Precision and F-score are ill-defined and being set to 0.0 in labels with no predicted samples. Use `zero_division` parameter to control this behavior.\n",
      "  _warn_prf(average, modifier, msg_start, len(result))\n",
      "c:\\users\\w2673\\appdata\\local\\programs\\python\\python37\\lib\\site-packages\\sklearn\\metrics\\_classification.py:1308: UndefinedMetricWarning: Precision and F-score are ill-defined and being set to 0.0 in labels with no predicted samples. Use `zero_division` parameter to control this behavior.\n",
      "  _warn_prf(average, modifier, msg_start, len(result))\n",
      "c:\\users\\w2673\\appdata\\local\\programs\\python\\python37\\lib\\site-packages\\sklearn\\metrics\\_classification.py:1308: UndefinedMetricWarning: Precision and F-score are ill-defined and being set to 0.0 in labels with no predicted samples. Use `zero_division` parameter to control this behavior.\n",
      "  _warn_prf(average, modifier, msg_start, len(result))\n"
     ]
    }
   ],
   "source": [
    "test_pred = model.predict(X_test)\n",
    "test_pred = one_hot_category_transfer(test_pred)\n",
    "target_names = ['bad rating', 'good rating']\n",
    "print(classification_report(y_test, test_pred, target_names=target_names))"
   ]
  },
  {
   "cell_type": "markdown",
   "metadata": {},
   "source": [
    "## CNN"
   ]
  },
  {
   "cell_type": "code",
   "execution_count": 306,
   "metadata": {},
   "outputs": [],
   "source": [
    "from keras import models\n",
    "from keras.layers import Conv1D, GlobalMaxPooling1D, Flatten, GlobalAveragePooling2D, Activation\n",
    "\n",
    "maxlen = 30\n",
    "batch_size = 32\n",
    "embedding_dims = 6\n",
    "filters = 10\n",
    "kernel_size1 = 3\n",
    "hidden_dims = 13\n",
    "\n",
    "model = models.Sequential()\n",
    "model.add(Embedding(vocabulary,embedding_dims,input_length=maxlen))\n",
    "model.add(Conv1D(filters,kernel_size1,padding='valid',activation='relu'))\n",
    "model.add(GlobalMaxPooling1D())\n",
    "model.add(Flatten())\n",
    "model.add(Dense(hidden_dims))\n",
    "model.add(Activation('relu'))\n",
    "model.add(Dense(2))\n",
    "model.add(Activation('sigmoid'))\n",
    "model.compile(loss='binary_crossentropy',optimizer='adam',metrics=['acc'])"
   ]
  },
  {
   "cell_type": "code",
   "execution_count": 307,
   "metadata": {},
   "outputs": [
    {
     "name": "stdout",
     "output_type": "stream",
     "text": [
      "Epoch 1/15\n",
      "95/95 [==============================] - 1s 4ms/step - loss: 0.5918 - acc: 0.7643 - val_loss: 0.5404 - val_acc: 0.7604\n",
      "Epoch 2/15\n",
      "95/95 [==============================] - 0s 2ms/step - loss: 0.5135 - acc: 0.7643 - val_loss: 0.4868 - val_acc: 0.7604\n",
      "Epoch 3/15\n",
      "95/95 [==============================] - 0s 2ms/step - loss: 0.4571 - acc: 0.7643 - val_loss: 0.4218 - val_acc: 0.7604\n",
      "Epoch 4/15\n",
      "95/95 [==============================] - 0s 2ms/step - loss: 0.4049 - acc: 0.7643 - val_loss: 0.3781 - val_acc: 0.7604\n",
      "Epoch 5/15\n",
      "95/95 [==============================] - 0s 2ms/step - loss: 0.3697 - acc: 0.8036 - val_loss: 0.3543 - val_acc: 0.8195\n",
      "Epoch 6/15\n",
      "95/95 [==============================] - 0s 2ms/step - loss: 0.3377 - acc: 0.8612 - val_loss: 0.3285 - val_acc: 0.8698\n",
      "Epoch 7/15\n",
      "95/95 [==============================] - 0s 2ms/step - loss: 0.3023 - acc: 0.8922 - val_loss: 0.3063 - val_acc: 0.8787\n",
      "Epoch 8/15\n",
      "95/95 [==============================] - 0s 2ms/step - loss: 0.2670 - acc: 0.9087 - val_loss: 0.2867 - val_acc: 0.8846\n",
      "Epoch 9/15\n",
      "95/95 [==============================] - 0s 2ms/step - loss: 0.2358 - acc: 0.9202 - val_loss: 0.2778 - val_acc: 0.8787\n",
      "Epoch 10/15\n",
      "95/95 [==============================] - 0s 2ms/step - loss: 0.2096 - acc: 0.9278 - val_loss: 0.2732 - val_acc: 0.8846\n",
      "Epoch 11/15\n",
      "95/95 [==============================] - 0s 2ms/step - loss: 0.1870 - acc: 0.9384 - val_loss: 0.2648 - val_acc: 0.8787\n",
      "Epoch 12/15\n",
      "95/95 [==============================] - 0s 2ms/step - loss: 0.1668 - acc: 0.9466 - val_loss: 0.2699 - val_acc: 0.8787\n",
      "Epoch 13/15\n",
      "95/95 [==============================] - 0s 2ms/step - loss: 0.1519 - acc: 0.9522 - val_loss: 0.2734 - val_acc: 0.8728\n",
      "Epoch 14/15\n",
      "95/95 [==============================] - 0s 2ms/step - loss: 0.1346 - acc: 0.9588 - val_loss: 0.2772 - val_acc: 0.8876\n",
      "Epoch 15/15\n",
      "95/95 [==============================] - 0s 2ms/step - loss: 0.1218 - acc: 0.9644 - val_loss: 0.2864 - val_acc: 0.8669\n"
     ]
    }
   ],
   "source": [
    "history = model.fit(X_train, Y_train, epochs=15, batch_size=batch_size, validation_split=0.1)"
   ]
  },
  {
   "cell_type": "code",
   "execution_count": 310,
   "metadata": {},
   "outputs": [
    {
     "name": "stdout",
     "output_type": "stream",
     "text": [
      "27/27 [==============================] - 0s 2ms/step - loss: 0.3705 - acc: 0.8673\n",
      "Test set\n",
      "  Loss: 0.370\n",
      "  Accuracy: 0.867\n"
     ]
    },
    {
     "data": {
      "image/png": "[encoded data removed]",
      "text/plain": [
       "<Figure size 432x288 with 1 Axes>"
      ]
     },
     "metadata": {
      "needs_background": "light"
     },
     "output_type": "display_data"
    },
    {
     "data": {
      "image/png": "[encoded data removed]",
      "text/plain": [
       "<Figure size 432x288 with 1 Axes>"
      ]
     },
     "metadata": {
      "needs_background": "light"
     },
     "output_type": "display_data"
    }
   ],
   "source": [
    "accr = model.evaluate(X_test,Y_test)\n",
    "print('Test set\\n  Loss: {:0.3f}\\n  Accuracy: {:0.3f}'.format(accr[0],accr[1]))\n",
    "\n",
    "plt.title('Loss')\n",
    "plt.plot(history.history['loss'], label='train')\n",
    "plt.plot(history.history['val_loss'], label='test')\n",
    "plt.legend()\n",
    "plt.show();\n",
    "\n",
    "plt.title('Accuracy')\n",
    "plt.plot(history.history['acc'], label='train')\n",
    "plt.plot(history.history['val_acc'], label='test')\n",
    "plt.legend()\n",
    "plt.show();"
   ]
  },
  {
   "cell_type": "code",
   "execution_count": 311,
   "metadata": {},
   "outputs": [
    {
     "name": "stdout",
     "output_type": "stream",
     "text": [
      "              precision    recall  f1-score   support\n",
      "\n",
      "  bad rating       0.74      0.65      0.69       193\n",
      " good rating       0.90      0.93      0.92       651\n",
      "\n",
      "    accuracy                           0.87       844\n",
      "   macro avg       0.82      0.79      0.80       844\n",
      "weighted avg       0.86      0.87      0.86       844\n",
      "\n"
     ]
    }
   ],
   "source": [
    "test_pred = model.predict(X_test)\n",
    "test_pred = one_hot_category_transfer(test_pred)\n",
    "target_names = ['bad rating', 'good rating']\n",
    "print(classification_report(y_test, test_pred, target_names=target_names))"
   ]
  },
  {
   "cell_type": "markdown",
   "metadata": {},
   "source": [
    "## Decision tree with Feature Importance"
   ]
  },
  {
   "cell_type": "code",
   "execution_count": 280,
   "metadata": {},
   "outputs": [],
   "source": [
    "df_latest = pd.read_csv(\"final_postcovid.csv\", parse_dates=['date'], date_parser=custom_date_parser)\n",
    "df_earliest = pd.read_csv(\"final_precovid.csv\", parse_dates=['date'], date_parser=custom_date_parser)"
   ]
  },
  {
   "cell_type": "code",
   "execution_count": 281,
   "metadata": {},
   "outputs": [],
   "source": [
    "nlp = spacy.load('en_core_web_sm', disable=['parser', 'ner'])\n",
    "REPLACE_BY_SPACE_RE = re.compile('[/(){}\\[\\]\\|@,;]')\n",
    "BAD_SYMBOLS_RE = re.compile('[^0-9a-z #+_]')\n",
    "STOPWORDS = set(stopwords.words('english'))\n",
    "\n",
    "def comment_preprocess(text):\n",
    "    text = text.lower()\n",
    "    text = re.sub(\"won\\'t\", \"will not\", text)\n",
    "    text = re.sub(\"can\\'t\", \"can not\", text)\n",
    "    text = re.sub(\"don\\'t\", \"do not\", text)\n",
    "    text = re.sub(\"didn\\'t\", \"did not\", text)\n",
    "    text = re.sub(\"shouldn\\'t\", \"should not\", text)\n",
    "    text = re.sub(\"\\'ll\", \"will\", text)\n",
    "    \n",
    "    text = re.sub('http[s]?://(?:[a-zA-Z]|[0-9]|[$-_@.&+#]|[!*\\(\\),]|'\\\n",
    "                       '(?:%[0-9a-fA-F][0-9a-fA-F]))+',' ', text)\n",
    "    text = REPLACE_BY_SPACE_RE.sub(' ', text) # replace REPLACE_BY_SPACE_RE symbols by space in text. substitute the matched string in REPLACE_BY_SPACE_RE with space.\n",
    "    text = BAD_SYMBOLS_RE.sub('', text) # remove symbols which are in BAD_SYMBOLS_RE from text. substitute the matched string in BAD_SYMBOLS_RE with nothing. \n",
    "    text = text.replace('x', '')\n",
    "    \n",
    "    text = text.translate(str.maketrans(string.punctuation, ' '*len(string.punctuation)))\n",
    "    text = re.sub(' +', ' ', text) # remove multiple spaces\n",
    "    \n",
    "    # text = [word for word in word_tokenize(text) if not word in stopwords.words('english')]\n",
    "    doc = nlp(text)\n",
    "    text = \" \".join([token.lemma_ for token in doc])\n",
    "    \n",
    "    return text"
   ]
  },
  {
   "cell_type": "code",
   "execution_count": 282,
   "metadata": {},
   "outputs": [],
   "source": [
    "df_latest[\"Comment\"] = df_latest[\"Comment\"].apply(comment_preprocess)\n",
    "df_earliest[\"Comment\"] = df_earliest[\"Comment\"].apply(comment_preprocess)"
   ]
  },
  {
   "cell_type": "code",
   "execution_count": 283,
   "metadata": {},
   "outputs": [],
   "source": [
    "df_latest[\"Rating\"].replace({\"1 star rating\": 0, \"2 star rating\": 0, \"4 star rating\": 1, \"5 star rating\": 1}, inplace=True)\n",
    "df_earliest[\"Rating\"].replace({\"1 star rating\": 0, \"2 star rating\": 0, \"4 star rating\": 1, \"5 star rating\": 1}, inplace=True)\n",
    "df_latest = df_latest[df_latest['Rating'] != '3 star rating']\n",
    "df_earliest = df_earliest[df_earliest['Rating'] != '3 star rating']"
   ]
  },
  {
   "cell_type": "code",
   "execution_count": 284,
   "metadata": {},
   "outputs": [],
   "source": [
    "# Let postcovid be 1 and precovid be 0\n",
    "df_latest['Time'] = 1\n",
    "df_earliest['Time'] = 0\n",
    "\n",
    "df = pd.concat([df_latest, df_earliest])"
   ]
  },
  {
   "cell_type": "code",
   "execution_count": 285,
   "metadata": {},
   "outputs": [],
   "source": [
    "from sklearn.feature_extraction.text import TfidfVectorizer\n",
    "\n",
    "vectorizer = TfidfVectorizer(stop_words='english')"
   ]
  },
  {
   "cell_type": "code",
   "execution_count": 286,
   "metadata": {},
   "outputs": [],
   "source": [
    "X = vectorizer.fit_transform(df['Comment'])\n",
    "X = pd.DataFrame(X.toarray())\n",
    "X.reset_index(inplace=True, drop=True)\n",
    "df.reset_index(inplace=True, drop=True)\n",
    "df_input = pd.concat([X, df[['Time', 'Rating']]], axis=1)"
   ]
  },
  {
   "cell_type": "code",
   "execution_count": 287,
   "metadata": {},
   "outputs": [],
   "source": [
    "from sklearn.model_selection import train_test_split\n",
    "\n",
    "X_train, X_test, y_train, y_test = train_test_split(df_input.iloc[:,:-1], df_input.iloc[:,-1].astype(\"int\"), \n",
    "                                                    test_size = 0.20, random_state = 42)"
   ]
  },
  {
   "cell_type": "code",
   "execution_count": 288,
   "metadata": {},
   "outputs": [
    {
     "name": "stderr",
     "output_type": "stream",
     "text": [
      "c:\\users\\w2673\\appdata\\local\\programs\\python\\python37\\lib\\site-packages\\sklearn\\utils\\validation.py:1679: FutureWarning: Feature names only support names that are all strings. Got feature names with dtypes: ['int', 'str']. An error will be raised in 1.2.\n",
      "  FutureWarning,\n"
     ]
    },
    {
     "data": {
      "text/plain": [
       "RandomForestClassifier(random_state=0)"
      ]
     },
     "execution_count": 288,
     "metadata": {},
     "output_type": "execute_result"
    }
   ],
   "source": [
    "from sklearn.ensemble import RandomForestClassifier\n",
    "\n",
    "clf = RandomForestClassifier(random_state=0)\n",
    "clf.fit(X_train, y_train)"
   ]
  },
  {
   "cell_type": "code",
   "execution_count": 289,
   "metadata": {},
   "outputs": [
    {
     "name": "stderr",
     "output_type": "stream",
     "text": [
      "c:\\users\\w2673\\appdata\\local\\programs\\python\\python37\\lib\\site-packages\\sklearn\\utils\\validation.py:1679: FutureWarning: Feature names only support names that are all strings. Got feature names with dtypes: ['int', 'str']. An error will be raised in 1.2.\n",
      "  FutureWarning,\n"
     ]
    },
    {
     "name": "stdout",
     "output_type": "stream",
     "text": [
      "              precision    recall  f1-score   support\n",
      "\n",
      "  bad rating       0.70      0.69      0.69       193\n",
      " good rating       0.91      0.91      0.91       651\n",
      "\n",
      "    accuracy                           0.86       844\n",
      "   macro avg       0.80      0.80      0.80       844\n",
      "weighted avg       0.86      0.86      0.86       844\n",
      "\n"
     ]
    }
   ],
   "source": [
    "y_pred = clf.predict(X_test)\n",
    "target_names = ['bad rating', 'good rating']\n",
    "print(classification_report(y_test, test_pred, target_names=target_names))"
   ]
  },
  {
   "cell_type": "code",
   "execution_count": 290,
   "metadata": {},
   "outputs": [
    {
     "data": {
      "text/plain": [
       "[('bad', 0.020462946957063844),\n",
       " ('great', 0.014691361142999921),\n",
       " ('rude', 0.013420674167419292),\n",
       " ('terrible', 0.012650030991784062),\n",
       " ('order', 0.012200454238153531),\n",
       " ('tell', 0.009540622154977434),\n",
       " ('ask', 0.009259722874114314),\n",
       " ('horrible', 0.008693344684951138),\n",
       " ('good', 0.0085117241132333),\n",
       " ('delicious', 0.008473716446243375),\n",
       " ('awful', 0.007357997015456517),\n",
       " ('minute', 0.00729387914408941),\n",
       " ('ok', 0.007158252819635853),\n",
       " ('say', 0.006878668527205819),\n",
       " ('disappointing', 0.006444243431302545),\n",
       " ('pay', 0.006148000604948079),\n",
       " ('love', 0.005665651431973329),\n",
       " ('unfortunately', 0.005516534765502061),\n",
       " ('customer', 0.005460866806059542),\n",
       " ('bland', 0.005334964876160494),\n",
       " ('fresh', 0.005218092820499748),\n",
       " ('hour', 0.005027757408613002),\n",
       " ('amazing', 0.004792064008917319),\n",
       " ('charge', 0.004659757026058377),\n",
       " ('leave', 0.0045541683917655834),\n",
       " ('review', 0.00437507395122637),\n",
       " ('waitress', 0.004341009979563234),\n",
       " ('taste', 0.004141149732134614),\n",
       " ('definitely', 0.004118377961034404),\n",
       " ('waste', 0.004067749809672667),\n",
       " ('use', 0.0039698176537945155),\n",
       " ('just', 0.0037914988135998307),\n",
       " ('disgusting', 0.003584119495515116),\n",
       " ('food', 0.003544841753583116),\n",
       " ('disappointed', 0.003507560095940403),\n",
       " ('like', 0.003423820786527668),\n",
       " ('overprice', 0.003372385568033993),\n",
       " ('understand', 0.003362630211178138),\n",
       " ('friendly', 0.0033483164048088137),\n",
       " ('place', 0.003297303621665758),\n",
       " ('mediocre', 0.003241280496753707),\n",
       " ('favorite', 0.0031929814416847713),\n",
       " ('receive', 0.0030924243376911995),\n",
       " ('away', 0.003054814386791669),\n",
       " ('spot', 0.0030405113270885963),\n",
       " ('refund', 0.0030358460900851447),\n",
       " ('know', 0.0029813383738235034),\n",
       " ('refuse', 0.002966964107748535),\n",
       " ('suck', 0.0029619916067543228),\n",
       " ('try', 0.002908474932708757),\n",
       " ('money', 0.002790944388630365),\n",
       " ('manager', 0.0027192696896458134),\n",
       " ('raw', 0.002612476643959404),\n",
       " ('management', 0.0025932076436605066),\n",
       " ('pizza', 0.002571515061416335),\n",
       " ('wait', 0.002563661112353502),\n",
       " ('poor', 0.0025442435577311307),\n",
       " ('nice', 0.0024989902583458083),\n",
       " ('come', 0.002394988217337071),\n",
       " ('way', 0.002392117136365811),\n",
       " ('thing', 0.0023894706742816313),\n",
       " ('service', 0.002343531865014556),\n",
       " ('bother', 0.002338316993183784),\n",
       " ('dry', 0.0022366990080354577),\n",
       " ('card', 0.0022361551083031226),\n",
       " ('phone', 0.0022302517428965485),\n",
       " ('hoboken', 0.0021695286515502903),\n",
       " ('lack', 0.00216393364487226),\n",
       " ('tasteless', 0.002163541476597595),\n",
       " ('average', 0.002156302938336254),\n",
       " ('time', 0.0021483339112469777),\n",
       " ('ve', 0.002097873152613905),\n",
       " ('attitude', 0.0020477175553063765),\n",
       " ('reason', 0.002043918242753663),\n",
       " ('cold', 0.002019365797492406),\n",
       " ('employee', 0.0019992898379900263),\n",
       " ('inedible', 0.001998989807021183),\n",
       " ('let', 0.0019970936857576947),\n",
       " ('make', 0.001987772565077982),\n",
       " ('menu', 0.0019737190336102067),\n",
       " ('ridiculous', 0.001967534127390981),\n",
       " ('delivery', 0.0019663961327071565),\n",
       " ('cancel', 0.001960020786466419),\n",
       " ('soggy', 0.0019112673836979466),\n",
       " ('barely', 0.0019098367594984995),\n",
       " ('maybe', 0.0018963687700913757),\n",
       " ('pre-/post-covid', 0.001884399557632461),\n",
       " ('sit', 0.0018608665063798116),\n",
       " ('finish', 0.0018340827957772981),\n",
       " ('recommend', 0.0018300933739970329),\n",
       " ('mask', 0.001824800803890737),\n",
       " ('eat', 0.0018179437883407952),\n",
       " ('need', 0.0018105163328426754),\n",
       " ('people', 0.00179841699523451),\n",
       " ('price', 0.0017918431331194744),\n",
       " ('table', 0.0017645449099162123),\n",
       " ('bag', 0.001754603323153627),\n",
       " ('literally', 0.0017346572114424117),\n",
       " ('completely', 0.0017098192544096522),\n",
       " ('basically', 0.0017052197499249514),\n",
       " ('sick', 0.0017031529741111664),\n",
       " ('restaurant', 0.0016882806828433783),\n",
       " ('bouncer', 0.001664159018425344),\n",
       " ('driver', 0.0016216275475395136),\n",
       " ('trash', 0.0016211451198874028),\n",
       " ('end', 0.0016139078071126566),\n",
       " ('okay', 0.00161024699667377),\n",
       " ('month', 0.0016020251813237496),\n",
       " ('smell', 0.0016017677092885249),\n",
       " ('cost', 0.0015959490466408866),\n",
       " ('ruin', 0.0015822559283098956),\n",
       " ('salt', 0.001561289298994715),\n",
       " ('bar', 0.001549183863299852),\n",
       " ('ignore', 0.0015491021176882605),\n",
       " ('really', 0.0015389283085531261),\n",
       " ('flavorless', 0.0015370709106680624),\n",
       " ('think', 0.0015369339832008258),\n",
       " ('half', 0.001532094946837184),\n",
       " ('watery', 0.001528322178471926),\n",
       " ('drink', 0.001523225657675904),\n",
       " ('apparently', 0.0014953704995004768),\n",
       " ('awesome', 0.001493487928115914),\n",
       " ('sadly', 0.0014882583698143787),\n",
       " ('eperience', 0.0014726940094124943),\n",
       " ('sauce', 0.0014399982278351115),\n",
       " ('dollar', 0.0014390044564176322),\n",
       " ('little', 0.0014385082154515772),\n",
       " ('want', 0.0014330765981285414),\n",
       " ('perfect', 0.0014208549083504988),\n",
       " ('shake', 0.001399732369857995),\n",
       " ('chicken', 0.0013788804004633967),\n",
       " ('new', 0.001367633651326827),\n",
       " ('look', 0.0013636819481506427),\n",
       " ('min', 0.0013563954032163137),\n",
       " ('stay', 0.0013527475816737095),\n",
       " ('pretty', 0.0013427054966445983),\n",
       " ('staff', 0.0013216088918150556),\n",
       " ('figure', 0.0013141076734278553),\n",
       " ('star', 0.0013064910740010413),\n",
       " ('portion', 0.0012928914042747734),\n",
       " ('read', 0.0012844876826805674),\n",
       " ('day', 0.00128377804918062),\n",
       " ('piece', 0.0012792312159110232),\n",
       " ('mess', 0.0012773316703639384),\n",
       " ('old', 0.0012773296612183433),\n",
       " ('30', 0.0012744293768701361),\n",
       " ('small', 0.0012659612783154197),\n",
       " ('area', 0.0012597859875567896),\n",
       " ('door', 0.0012552470125936838),\n",
       " ('disappointment', 0.0012545127018750624),\n",
       " ('answer', 0.0012245359425565783),\n",
       " ('later', 0.0012208464638738422),\n",
       " ('multiple', 0.0012191087207246189),\n",
       " ('instead', 0.0012141608956731042),\n",
       " ('throw', 0.0012104253620888142),\n",
       " ('frozen', 0.001208693422430411),\n",
       " ('guess', 0.0012083327372999178),\n",
       " ('sure', 0.001203452140072858),\n",
       " ('fry', 0.001198127460104856),\n",
       " ('friend', 0.0011920652186631505),\n",
       " ('waiter', 0.001191298721635349),\n",
       " ('special', 0.001190978456219257),\n",
       " ('credit', 0.001186617221207153),\n",
       " ('send', 0.0011772705190469268),\n",
       " ('ecellent', 0.0011668091354041603),\n",
       " ('bartender', 0.0011585673813436976),\n",
       " ('night', 0.001143229802027687),\n",
       " ('rice', 0.0011360131977384716),\n",
       " ('20', 0.0011214684710574051),\n",
       " ('salty', 0.0011154030879846053),\n",
       " ('ecite', 0.001101620833892506),\n",
       " ('line', 0.0010925704700727305),\n",
       " ('pick', 0.001081820806055952),\n",
       " ('buy', 0.0010765867720911306),\n",
       " ('plenty', 0.0010741908768452642),\n",
       " ('wrong', 0.0010676901531507454),\n",
       " ('burn', 0.0010669791756519674),\n",
       " ('check', 0.0010642438028283206),\n",
       " ('salad', 0.001049366128351643),\n",
       " ('sorry', 0.0010452303171292023),\n",
       " ('beer', 0.0010404327678217207),\n",
       " ('flavor', 0.0010398482351499023),\n",
       " ('slice', 0.00103778090610532),\n",
       " ('arrive', 0.0010321789459779753),\n",
       " ('business', 0.001030707387037858),\n",
       " ('assume', 0.001026642598143409),\n",
       " ('nasty', 0.0010263567828128557),\n",
       " ('open', 0.0010238217291340908),\n",
       " ('gross', 0.0010230504878887808),\n",
       " ('15', 0.0010229127779186023),\n",
       " ('paper', 0.0010205921682670145),\n",
       " ('annoying', 0.001009771021919961),\n",
       " ('stale', 0.0010015788187505328),\n",
       " ('lose', 0.0009970687405820946),\n",
       " ('cheese', 0.000992817454215486),\n",
       " ('obviously', 0.0009924430983649262),\n",
       " ('plastic', 0.0009810475741708416),\n",
       " ('yell', 0.0009765932074417105),\n",
       " ('right', 0.0009759673035961121),\n",
       " ('shrimp', 0.0009747488891820086),\n",
       " ('guy', 0.0009716103390166891),\n",
       " ('lot', 0.0009513176801485993),\n",
       " ('coke', 0.0009504710711810568),\n",
       " ('sushi', 0.0009476684856749485),\n",
       " ('suppose', 0.0009475054458225484),\n",
       " ('worth', 0.0009351176716838648),\n",
       " ('hair', 0.0009313841514706494),\n",
       " ('online', 0.000931030968956122),\n",
       " ('net', 0.0009287831748284926),\n",
       " ('hang', 0.0009206050031710453),\n",
       " ('consider', 0.0009201862354048271),\n",
       " ('water', 0.000919553783800069),\n",
       " ('return', 0.0009135078517817844),\n",
       " ('shack', 0.000911835494400396),\n",
       " ('inside', 0.0009107731232015603),\n",
       " ('server', 0.0009106817391777516),\n",
       " ('manage', 0.0009099030314866309),\n",
       " ('joint', 0.0009084014471267898),\n",
       " ('wonder', 0.0009049737737220338),\n",
       " ('home', 0.0008893574953368268),\n",
       " ('second', 0.0008870024760626278),\n",
       " ('happy', 0.0008847250597896439),\n",
       " ('rating', 0.0008837574892225953),\n",
       " ('tip', 0.0008797943376312757),\n",
       " ('meal', 0.0008741992905694957),\n",
       " ('problem', 0.0008642694076318394),\n",
       " ('care', 0.0008620384680885162),\n",
       " ('dirty', 0.0008602245353573643),\n",
       " ('walk', 0.0008588213024151792),\n",
       " ('40', 0.000857212984047139),\n",
       " ('decent', 0.0008490804226584142),\n",
       " ('location', 0.0008377753527646244),\n",
       " ('tasty', 0.0008375813209353904),\n",
       " ('reservation', 0.0008361108189556557),\n",
       " ('atmosphere', 0.0008359783899696484),\n",
       " ('dinner', 0.0008342328168238864),\n",
       " ('girlfriend', 0.0008339436132672517),\n",
       " ('twice', 0.0008269630487456007),\n",
       " ('wish', 0.0008213928419118777),\n",
       " ('wear', 0.0008170758356942601),\n",
       " ('big', 0.0008093095496266355),\n",
       " ('lunch', 0.0008018728761239617),\n",
       " ('decide', 0.0007989702690782767),\n",
       " ('etremely', 0.0007954582933681704),\n",
       " ('compare', 0.0007948555676306508),\n",
       " ('uncomfortable', 0.0007894970119263177),\n",
       " ('offer', 0.0007878268660770127),\n",
       " ('close', 0.0007868203304942485),\n",
       " ('hard', 0.0007854536741856557),\n",
       " ('run', 0.0007746433080840786),\n",
       " ('dish', 0.0007707484538386415),\n",
       " ('clearly', 0.0007706442819728339),\n",
       " ('miss', 0.000769367274395158),\n",
       " ('cook', 0.0007638491394703678),\n",
       " ('overpriced', 0.0007570958432827268),\n",
       " ('year', 0.0007570936396023856),\n",
       " ('base', 0.0007551715608271788),\n",
       " ('save', 0.0007550105814878769),\n",
       " ('mied', 0.0007545174780440769),\n",
       " ('plain', 0.0007533127617700207),\n",
       " ('cover', 0.0007518958625197743),\n",
       " ('vegetable', 0.0007482035585727628),\n",
       " ('italian', 0.0007473762499033182),\n",
       " ('mean', 0.0007451564647396457),\n",
       " ('outside', 0.0007415170235030391),\n",
       " ('cut', 0.0007410035169608136),\n",
       " ('roll', 0.0007381708789618618),\n",
       " ('super', 0.0007364112792868941),\n",
       " ('finally', 0.0007334586914739299),\n",
       " ('enjoy', 0.000732130479638974),\n",
       " ('epecte', 0.0007310045283810302),\n",
       " ('byob', 0.0007195052253007172),\n",
       " ('person', 0.0007055910635050195),\n",
       " ('establishment', 0.0007004943540274778),\n",
       " ('edible', 0.0006971669319159447),\n",
       " ('work', 0.0006963306494598521),\n",
       " ('appetizer', 0.0006831260436464248),\n",
       " ('forget', 0.0006812628948064481),\n",
       " ('dive', 0.0006762106862611535),\n",
       " ('picture', 0.0006745463267896528),\n",
       " ('serve', 0.0006739928002875464),\n",
       " ('epensive', 0.0006725087431167227),\n",
       " ('fish', 0.0006696031481479198),\n",
       " ('starve', 0.0006682410185968065),\n",
       " ('attempt', 0.0006656019646018692),\n",
       " ('chew', 0.0006635682577405711),\n",
       " ('properly', 0.0006623678577157867),\n",
       " ('pie', 0.0006596052969849046),\n",
       " ('push', 0.0006570256878420532),\n",
       " ('doughy', 0.000656666254137877),\n",
       " ('item', 0.0006545000871735196),\n",
       " ('entree', 0.000653255766299876),\n",
       " ('long', 0.0006524015048219618),\n",
       " ('onion', 0.0006468079957291066),\n",
       " ('pasta', 0.0006448448218324116),\n",
       " ('crap', 0.0006425950909216632),\n",
       " ('feel', 0.0006392666994305253),\n",
       " ('coffee', 0.0006390200856788792),\n",
       " ('joke', 0.0006388124587713785),\n",
       " ('highly', 0.0006381261081987459),\n",
       " ('sad', 0.0006376226202291508),\n",
       " ('honest', 0.0006341055671738276),\n",
       " ('actually', 0.0006323640357834635),\n",
       " ('hype', 0.000631876965126117),\n",
       " ('crispy', 0.0006318671359081041),\n",
       " ('ago', 0.0006309203356981743),\n",
       " ('probably', 0.0006306600102052515),\n",
       " ('total', 0.0006290942083508354),\n",
       " ('glass', 0.0006287237821902283),\n",
       " ('apology', 0.0006286640474748814),\n",
       " ('city', 0.0006274493231467242),\n",
       " ('notice', 0.0006247834051283112),\n",
       " ('busy', 0.0006233454873332813),\n",
       " ('difficult', 0.0006228225367575243),\n",
       " ('hot', 0.0006224726757958362),\n",
       " ('straight', 0.0006214251655092757),\n",
       " ('bit', 0.0006192196431380791),\n",
       " ('option', 0.0006191073804723073),\n",
       " ('soup', 0.0006165116285995329),\n",
       " ('quality', 0.0006113477124142389),\n",
       " ('visit', 0.0006097143160063606),\n",
       " ('brunch', 0.0006096004927425479),\n",
       " ('breakfast', 0.0006086518834380624),\n",
       " ('boring', 0.0006071336336807917),\n",
       " ('fact', 0.0005996764663755897),\n",
       " ('sandwich', 0.0005992587956352452),\n",
       " ('start', 0.0005976348894872296),\n",
       " ('pour', 0.0005933165163639298),\n",
       " ('bagel', 0.0005884493968310784),\n",
       " ('stop', 0.0005870359741778099),\n",
       " ('absolute', 0.0005848977912695522),\n",
       " ('undercooked', 0.0005835666110850585),\n",
       " ('freeze', 0.0005831989012410493),\n",
       " ('spicy', 0.0005821914325039305),\n",
       " ('laugh', 0.0005815863471420921),\n",
       " ('barista', 0.0005786673834796884),\n",
       " ('bread', 0.0005776397850522241),\n",
       " ('remember', 0.0005722191134574183),\n",
       " ('change', 0.0005706530224520009),\n",
       " ('iwill', 0.0005705417395000036),\n",
       " ('18', 0.0005696607935941251),\n",
       " ('point', 0.0005688501238139337),\n",
       " ('pork', 0.0005686414686430627),\n",
       " ('hold', 0.0005670931681962296),\n",
       " ('tiny', 0.0005662032530586946),\n",
       " ('veg', 0.0005658291247345828),\n",
       " ('chinese', 0.000565538852881423),\n",
       " ('fast', 0.0005610744121210689),\n",
       " ('forever', 0.000560653038223131),\n",
       " ('10', 0.0005573953814334261),\n",
       " ('authentic', 0.000555269538309601),\n",
       " ('far', 0.0005501597137093997),\n",
       " ('tonight', 0.0005495941265265035),\n",
       " ('owner', 0.0005482965067710806),\n",
       " ('basic', 0.0005478171160316939),\n",
       " ('town', 0.0005477692931252019),\n",
       " ('admit', 0.0005469440869235142),\n",
       " ('sparse', 0.0005461101747693087),\n",
       " ('step', 0.0005457343897370159),\n",
       " ('absolutely', 0.000544645887892107),\n",
       " ('music', 0.0005442825109530522),\n",
       " ('break', 0.0005434980597700015),\n",
       " ('topping', 0.0005431592507151689),\n",
       " ('fat', 0.0005404929184963942),\n",
       " ('live', 0.0005395729405274376),\n",
       " ('height', 0.0005367343057800495),\n",
       " ('foot', 0.0005355296503113605),\n",
       " ('spend', 0.0005353301754611317),\n",
       " ('choice', 0.0005349341275326467),\n",
       " ('generally', 0.0005330190390019893),\n",
       " ('real', 0.0005328159526324247),\n",
       " ('burger', 0.0005295319215481576),\n",
       " ('treat', 0.0005252051250947353),\n",
       " ('cooked', 0.000521845921630457),\n",
       " ('sunday', 0.0005217545206874872),\n",
       " ('fantastic', 0.0005169912242258122),\n",
       " ('chance', 0.0005165912623790758),\n",
       " ('poorly', 0.0005153294780852336),\n",
       " ('zero', 0.0005135724759202015),\n",
       " ('code', 0.0005115796714509956),\n",
       " ('different', 0.0005073919316444253),\n",
       " ('actual', 0.000506045007804571),\n",
       " ('large', 0.0005039862502683435),\n",
       " ('sense', 0.0005037215619398957),\n",
       " ('accept', 0.0005020876315768307),\n",
       " ('shame', 0.0005011628629081104),\n",
       " ('stand', 0.0005001288490418089),\n",
       " ('rubbery', 0.0004989432116701659),\n",
       " ('speak', 0.0004983427763746198),\n",
       " ('imagine', 0.0004982591622899794),\n",
       " ('idea', 0.0004959065107511863),\n",
       " ('quickly', 0.0004954122209777787),\n",
       " ('overcook', 0.0004924675142894519),\n",
       " ('quick', 0.0004907011900668638),\n",
       " ('cube', 0.000490068810937937),\n",
       " ('normal', 0.0004887142373593193),\n",
       " ('lettuce', 0.0004875624333975087),\n",
       " ('sweet', 0.0004864054736498987),\n",
       " ('huge', 0.00048619194848148836),\n",
       " ('drunk', 0.0004844049472716568),\n",
       " ('etra', 0.0004783103595666719),\n",
       " ('beef', 0.0004776112449908717),\n",
       " ('strike', 0.0004772669651733554),\n",
       " ('shot', 0.0004772660356049978),\n",
       " ('honestly', 0.00047608299392259984),\n",
       " ('container', 0.00047468929262702334),\n",
       " ('loyal', 0.0004708738734160502),\n",
       " ('stick', 0.00047057626999026376),\n",
       " ('receipt', 0.00047050856796829654),\n",
       " ('risk', 0.0004694198834898806),\n",
       " ('atm', 0.0004682157875270988),\n",
       " ('talk', 0.00046482494140207594),\n",
       " ('veggie', 0.0004647058288127902),\n",
       " ('happen', 0.0004641500678529345),\n",
       " ('neighborhood', 0.00046267560271995604),\n",
       " ('room', 0.0004608210907967282),\n",
       " ('meat', 0.00045940980550337004),\n",
       " ('mala', 0.0004568876619122539),\n",
       " ('fault', 0.0004568676460820225),\n",
       " ('short', 0.0004557265896427163),\n",
       " ('girl', 0.00045333029548355326),\n",
       " ('woman', 0.0004499193250375256),\n",
       " ('selection', 0.00044940933274496115),\n",
       " ('white', 0.00044934557967350676),\n",
       " ('deliver', 0.0004462338549940696),\n",
       " ('free', 0.000444375954814433),\n",
       " ('acknowledge', 0.0004415696036625848),\n",
       " ('oh', 0.0004401968468179866),\n",
       " ('impossible', 0.00043911727480944326),\n",
       " ('sign', 0.00043832313440942934),\n",
       " ('beat', 0.0004377022821504978),\n",
       " ('party', 0.0004368123225412967),\n",
       " ('ecept', 0.00043615189246849615),\n",
       " ('include', 0.0004360912506739978),\n",
       " ('14', 0.0004352221692766322),\n",
       " ('crappy', 0.00043484577582156097),\n",
       " ('simply', 0.0004320219065984461),\n",
       " ('block', 0.00043194723872210016),\n",
       " ('lie', 0.0004313217668774109),\n",
       " ('claim', 0.00042859902590510065),\n",
       " ('noodle', 0.00042788520495842195),\n",
       " ('scream', 0.0004276201107537847),\n",
       " ('pepper', 0.00042680706659302403),\n",
       " ('believe', 0.00042677959075552177),\n",
       " ('wine', 0.0004267154297117076),\n",
       " ('rip', 0.00042587584225462405),\n",
       " ('12', 0.0004253096696673059),\n",
       " ('main', 0.000423618205527991),\n",
       " ('disaster', 0.00042287756959794156),\n",
       " ('terribly', 0.0004217009546692477),\n",
       " ('buffalo', 0.000419125152807602),\n",
       " ('apologize', 0.000417566243017543),\n",
       " ('plus', 0.0004156581894684013),\n",
       " ('double', 0.0004153315687541724),\n",
       " ('bowl', 0.0004132000429738083),\n",
       " ('anymore', 0.00041168702454967495),\n",
       " ('poisoning', 0.0004095672980347915),\n",
       " ('control', 0.00040953059916169695),\n",
       " ('street', 0.00040812347249817213),\n",
       " ('issue', 0.00040751528232566887),\n",
       " ('request', 0.0004071780611216227),\n",
       " ('handle', 0.0004068715709059942),\n",
       " ('disappoint', 0.00040681273407417915),\n",
       " ('size', 0.0004064574758696351),\n",
       " ('wing', 0.00040626992741719264),\n",
       " ('perfectly', 0.00040599693431454527),\n",
       " ('patron', 0.0004059348670634668),\n",
       " ('decor', 0.00040397094972265823),\n",
       " ('style', 0.00040326023787672354),\n",
       " ('round', 0.0004032126063793068),\n",
       " ('nearly', 0.00040189413437066425),\n",
       " ('catch', 0.0004013812544641641),\n",
       " ('usually', 0.0003987103989820924),\n",
       " ('pm', 0.00039834936536853674),\n",
       " ('rate', 0.00039631166426091797),\n",
       " ('hope', 0.0003935560086895495),\n",
       " ('impressed', 0.00038967406798261976),\n",
       " ('quite', 0.0003886276991508962),\n",
       " ('shocked', 0.00038798850404230445),\n",
       " ('reply', 0.00038766322603252365),\n",
       " ('hurt', 0.00038668498814277966),\n",
       " ('hostess', 0.00038642542114307536),\n",
       " ('bring', 0.0003860317386958173),\n",
       " ('face', 0.00038535813132273966),\n",
       " ('pool', 0.00038441452580627354),\n",
       " ('suggest', 0.0003838104838383492),\n",
       " ('fully', 0.00038319831054994444),\n",
       " ('set', 0.0003812933390311692),\n",
       " ('earn', 0.00038094983243282623),\n",
       " ('takeout', 0.00038040634870971943),\n",
       " ('car', 0.0003802058097625628),\n",
       " ('overcooked', 0.00037910993200987003),\n",
       " ('matter', 0.0003775325555673933),\n",
       " ('attentive', 0.0003751545707487831),\n",
       " ('high', 0.0003739567125933268),\n",
       " ('watch', 0.00037353698381465387),\n",
       " ('corner', 0.0003712083300934449),\n",
       " ('egg', 0.0003707157537189467),\n",
       " ('negative', 0.00036878330933710115),\n",
       " ('steak', 0.0003683470743696532),\n",
       " ('crust', 0.00036781690574576206),\n",
       " ('hand', 0.0003677652377637142),\n",
       " ('unacceptable', 0.00036662522869484614),\n",
       " ('google', 0.0003661949369927067),\n",
       " ('hate', 0.000364569452906977),\n",
       " ('husband', 0.00036176248250321355),\n",
       " ('ingredient', 0.0003616136416607432),\n",
       " ('saturday', 0.0003601623509359398),\n",
       " ('ass', 0.0003598873324785467),\n",
       " ('downhill', 0.00035904438254938246),\n",
       " ('careful', 0.00035904389250970706),\n",
       " ('dining', 0.0003555228097405801),\n",
       " ('dumpling', 0.00035465175727449706),\n",
       " ('fan', 0.0003545314940843094),\n",
       " ('uber', 0.000353705911756428),\n",
       " ('able', 0.0003505488532016322),\n",
       " ('soda', 0.00035018957185731047),\n",
       " ('brass', 0.0003497341009248531),\n",
       " ('fit', 0.0003487538669789634),\n",
       " ('brown', 0.0003487343540108366),\n",
       " ('kind', 0.00034631548912463644),\n",
       " ('trust', 0.00034601792006272865),\n",
       " ('fall', 0.000345430052168289),\n",
       " ('pack', 0.00034521744218425507),\n",
       " ('burrito', 0.0003449181519050319),\n",
       " ('turn', 0.00034399245018445286),\n",
       " ('refill', 0.0003437149205761187),\n",
       " ('oven', 0.0003422361538842166),\n",
       " ('beware', 0.00034135062392987476),\n",
       " ('covid', 0.000340854566026067),\n",
       " ('dough', 0.000340424561827827),\n",
       " ('cool', 0.00033930743939434687),\n",
       " ('mouth', 0.00033829822770802605),\n",
       " ('bunch', 0.00033770641013670624),\n",
       " ('vodka', 0.0003374445754262392),\n",
       " ('ready', 0.0003373646219661696),\n",
       " ('type', 0.000337129467994601),\n",
       " ('oily', 0.0003363651681036958),\n",
       " ('local', 0.000335931588843428),\n",
       " ('easily', 0.00033558478712567626),\n",
       " ('contain', 0.000331529287652819),\n",
       " ('family', 0.00032979885635523663),\n",
       " ('ride', 0.0003289144037543078),\n",
       " ('soon', 0.00032820332733599186),\n",
       " ('korean', 0.0003269744984205238),\n",
       " ('insane', 0.00032694976239627533),\n",
       " ('curly', 0.00032677059690157606),\n",
       " ('napkin', 0.0003262883732699434),\n",
       " ('unable', 0.00032607084183201336),\n",
       " ('lady', 0.0003254316016158651),\n",
       " ('toss', 0.00032532334068730863),\n",
       " ('garnish', 0.00032457728655482153),\n",
       " ('pile', 0.0003237678619471043),\n",
       " ('especially', 0.0003236954253469338),\n",
       " ('opinion', 0.00032351910341362616),\n",
       " ('fee', 0.0003226227507005164),\n",
       " ('slider', 0.00032240341267610663),\n",
       " ('moment', 0.00032039655829521065),\n",
       " ('rave', 0.0003192842579358813),\n",
       " ('epectation', 0.0003179099091649225),\n",
       " ('slow', 0.0003158065275750776),\n",
       " ('friday', 0.00031524708686717556),\n",
       " ('inform', 0.000315037907271707),\n",
       " ('1015', 0.00031357149691931826),\n",
       " ('boil', 0.0003134314925424236),\n",
       " ('grain', 0.0003130922978532158),\n",
       " ('space', 0.00031275226621767157),\n",
       " ('gnocchithe', 0.00031261600857786643),\n",
       " ('reasonable', 0.0003125091768950297),\n",
       " ('btw', 0.0003121047952379358),\n",
       " ('begin', 0.0003118194466584083),\n",
       " ('weakness', 0.0003112014051430453),\n",
       " ('response', 0.00031061539073188406),\n",
       " ('incredibly', 0.0003105503675871536),\n",
       " ('sichuan', 0.0003103889809921771),\n",
       " ('unprofessional', 0.0003099115541106513),\n",
       " ('health', 0.00030964690315332763),\n",
       " ('calzone', 0.0003093359219355623),\n",
       " ('totally', 0.0003090683193980779),\n",
       " ('275', 0.00030872572512156884),\n",
       " ('hear', 0.0003083352776927218),\n",
       " ('salmon', 0.00030698423514248225),\n",
       " ('cafe', 0.00030528944529747336),\n",
       " ('politely', 0.00030454002343952024),\n",
       " ('realize', 0.0003043073384976715),\n",
       " ('rock', 0.0003036675293257818),\n",
       " ('running', 0.000303406868593763),\n",
       " ('safety', 0.00030312676272451817),\n",
       " ('decoration', 0.0003027534536747417),\n",
       " ('broccoli', 0.000302623204378448),\n",
       " ('superior', 0.00030242377434143333),\n",
       " ('wrap', 0.00030196700153216577),\n",
       " ('disrespectful', 0.000301632901071492),\n",
       " ('hit', 0.00030149579996749924),\n",
       " ('bathroom', 0.00030089987044447017),\n",
       " ('write', 0.0003008147240908497),\n",
       " ('daughter', 0.000299440419353689),\n",
       " ('tv', 0.00029844707474503793),\n",
       " ('past', 0.00029827993382691004),\n",
       " ('harass', 0.0002976130428711837),\n",
       " ('shit', 0.0002970488780948919),\n",
       " ('appear', 0.00029635506610657355),\n",
       " ('hardly', 0.0002962300971204893),\n",
       " ('cheap', 0.0002955211536406418),\n",
       " ('flavorful', 0.0002953941230169145),\n",
       " ('tab', 0.00029488295724483483),\n",
       " ('originally', 0.00029414824323019075),\n",
       " ('fairly', 0.00029396483971618517),\n",
       " ('apartment', 0.0002937305061692716),\n",
       " ('jersey', 0.00029366210119349394),\n",
       " ('boyfriend', 0.00029327172802692163),\n",
       " ('garlic', 0.00029303865262323515),\n",
       " ('promise', 0.0002923878565539908),\n",
       " ('parm', 0.0002921764691565577),\n",
       " ('loud', 0.0002917591657891884),\n",
       " ('complain', 0.0002900231389802629),\n",
       " ('initially', 0.00028973273673323666),\n",
       " ('ahead', 0.0002892958683935038),\n",
       " ('enjoyable', 0.0002887587577875777),\n",
       " ('chip', 0.00028857031929236705),\n",
       " ('overrated', 0.0002881409479285594),\n",
       " ('light', 0.0002879424000376758),\n",
       " ('story', 0.0002876717691079695),\n",
       " ('dispute', 0.0002875665663672975),\n",
       " ('fool', 0.0002873150121797866),\n",
       " ('vegetarian', 0.0002868056526960728),\n",
       " ('casserole', 0.000286401362888329),\n",
       " ('post', 0.00028566622108322634),\n",
       " ('commend', 0.0002855669383831898),\n",
       " ('100', 0.0002849059805516253),\n",
       " ('45', 0.0002848191365617475),\n",
       " ('succeed', 0.00028464467464915026),\n",
       " ('gem', 0.0002839206547472514),\n",
       " ('repeatedly', 0.000283148930526183),\n",
       " ('gomargarita', 0.0002829746005869605),\n",
       " ('help', 0.0002818172397738992),\n",
       " ('youwill', 0.0002811985053432188),\n",
       " ('tuna', 0.00028074269301296353),\n",
       " ('subpar', 0.00028066155637345125),\n",
       " ('burrata', 0.0002795559633107928),\n",
       " ('solid', 0.00027931615129799973),\n",
       " ('thankfully', 0.0002789788339676519),\n",
       " ('calamari', 0.000278952152307993),\n",
       " ('tacqueria', 0.00027893022540057477),\n",
       " ('kid', 0.00027835970137627774),\n",
       " ('tomato', 0.00027833528324705374),\n",
       " ('weird', 0.00027828385988795933),\n",
       " ('wheat', 0.000278205569004579),\n",
       " ('cute', 0.00027817412064374777),\n",
       " ('punch', 0.000278027845039906),\n",
       " ('grimaldis', 0.0002777371585945231),\n",
       " ('address', 0.0002775027186260092),\n",
       " ('highlight', 0.00027702046492994795),\n",
       " ('bday', 0.00027605300488638856),\n",
       " ('fair', 0.0002754814232367423),\n",
       " ('allow', 0.00027391278852702624),\n",
       " ('counter', 0.00027335567585276045),\n",
       " ('week', 0.000272263286143605),\n",
       " ('takeoutthe', 0.0002715633533964278),\n",
       " ('word', 0.0002713085225024254),\n",
       " ('yelp', 0.00027056385865086203),\n",
       " ('substitute', 0.0002705210767678564),\n",
       " ('seat', 0.00027050941510044956),\n",
       " ('greet', 0.0002702108313210247),\n",
       " ('near', 0.00026987852962376334),\n",
       " ('si', 0.0002694869481111737),\n",
       " ('grand', 0.00026905775095637636),\n",
       " ('world', 0.00026865583557038575),\n",
       " ('plate', 0.00026847021422767795),\n",
       " ('soft', 0.0002679085324028491),\n",
       " ('certainly', 0.000267795069948508),\n",
       " ('clean', 0.00026740833315690176),\n",
       " ('poke', 0.0002670045614279082),\n",
       " ('doordash', 0.0002667973395875872),\n",
       " ('grab', 0.0002667178197681329),\n",
       " ('bottled', 0.00026567065882599145),\n",
       " ('kitchen', 0.00026560277130063646),\n",
       " ('yummy', 0.00026546052865054204),\n",
       " ('seamless', 0.00026522864353340804),\n",
       " ('3rd', 0.00026484845673350744),\n",
       " ('blame', 0.0002645421448201067),\n",
       " ('app', 0.000264390863120143),\n",
       " ('malibu', 0.00026408091432117593),\n",
       " ('lackadaisical', 0.0002636567681307076),\n",
       " ('vs', 0.0002636510884680699),\n",
       " ('blue', 0.0002629221773986415),\n",
       " ('trip', 0.00026253689010279215),\n",
       " ('truly', 0.00026224648857832374),\n",
       " ('overrate', 0.0002619543135501648),\n",
       " ('couple', 0.00026194516964350473),\n",
       " ('epect', 0.0002613302542778575),\n",
       " ('fake', 0.00025965295050559635),\n",
       " ('eye', 0.0002593988571339967),\n",
       " ('prime', 0.00025919782812042826),\n",
       " ('rush', 0.00025887616062514524),\n",
       " ('personal', 0.00025827100301985636),\n",
       " ('regular', 0.00025781195174401204),\n",
       " ('seating', 0.00025764037905372814),\n",
       " ('hudson', 0.00025735003439827036),\n",
       " ('medium', 0.000257233909505876),\n",
       " ('question', 0.00025719910456111145),\n",
       " ('25', 0.00025710723081568624),\n",
       " ('fun', 0.000256882579124106),\n",
       " ('red', 0.0002568003458454352),\n",
       " ('consistent', 0.0002562748892425179),\n",
       " ('overall', 0.0002553377116410446),\n",
       " ('record', 0.0002550179815914591),\n",
       " ('pass', 0.00025430318375783165),\n",
       " ('host', 0.0002534341071082331),\n",
       " ('head', 0.00025325780070540834),\n",
       " ('unfortunate', 0.0002531638134064637),\n",
       " ('game', 0.0002531548104252688),\n",
       " ('seemingly', 0.00025271149175131824),\n",
       " ('avocado', 0.0002525910660320765),\n",
       " ('lol', 0.0002519687722615999),\n",
       " ('parking', 0.00025189698566861643),\n",
       " ('unappealing', 0.00025079878276612936),\n",
       " ('afternoon', 0.0002504809364471111),\n",
       " ('blah', 0.00024925853339674824),\n",
       " ('cleanliness', 0.0002490373231426263),\n",
       " ('seriously', 0.0002489729023050269),\n",
       " ('quesadilla', 0.00024893165821094905),\n",
       " ('ice', 0.00024889227105189064),\n",
       " ('oppose', 0.00024854132632409076),\n",
       " ('add', 0.0002482655905255156),\n",
       " ('meet', 0.00024764553092504894),\n",
       " ('forward', 0.00024688939552629783),\n",
       " ('ketchup', 0.0002467960493182848),\n",
       " ('consistently', 0.0002463792306998092),\n",
       " ('obvious', 0.00024594463538453194),\n",
       " ('guacamole', 0.00024588207554190227),\n",
       " ('ubu', 0.00024578553626529535),\n",
       " ('dessert', 0.00024574828793935384),\n",
       " ('view', 0.0002451780562516488),\n",
       " ('forgot', 0.0002450834711237064),\n",
       " ('outdoor', 0.0002448262703532956),\n",
       " ('skip', 0.0002448043585808804),\n",
       " ('enter', 0.00024466790750638764),\n",
       " ('pickup', 0.00024363154373020882),\n",
       " ('bennysid', 0.0002431566851319655),\n",
       " ('season', 0.00024314759540768651),\n",
       " ('today', 0.00024265451816248915),\n",
       " ('metal', 0.0002425025853870839),\n",
       " ('35', 0.00024199461948184607),\n",
       " ('fine', 0.00024128110324544557),\n",
       " ('willing', 0.00024121717074878813),\n",
       " ('entire', 0.00024110523592841494),\n",
       " ('usual', 0.00024074802052477718),\n",
       " ('cash', 0.00023955057032532226),\n",
       " ('eplaine', 0.0002394131250237201),\n",
       " ('cause', 0.00023915679652905658),\n",
       " ('lo', 0.00023880593736691806),\n",
       " ('tend', 0.00023821831675558034),\n",
       " ('bull', 0.00023763157764013107),\n",
       " ('yesterday', 0.00023742106074171323),\n",
       " ('store', 0.00023698495782673465),\n",
       " ('website', 0.0002346773727934735),\n",
       " ('tomatoe', 0.00023446796492732332),\n",
       " ('mie', 0.00023443546981526426),\n",
       " ('helpful', 0.0002344191353083781),\n",
       " ('thank', 0.00023433799550780975),\n",
       " ('50', 0.000233143871389105),\n",
       " ('man', 0.0002322795688386812),\n",
       " ('homemade', 0.00023206756222807716),\n",
       " ('warm', 0.00023204216447046433),\n",
       " ('taco', 0.00023116396469019036),\n",
       " ('vin', 0.00023105639867874103),\n",
       " ('list', 0.00023013695163998167),\n",
       " ('benefit', 0.00022964687078527837),\n",
       " ('fucking', 0.00022932309942787506),\n",
       " ('decline', 0.00022885436655417993),\n",
       " ('keg', 0.0002287930056884898),\n",
       " ('pepperoni', 0.00022875484175656838),\n",
       " ('easy', 0.00022866360973127547),\n",
       " ('potato', 0.0002275930941526688),\n",
       " ('marinara', 0.0002270900975769759),\n",
       " ('kill', 0.00022574072731469343),\n",
       " ('hamburger', 0.00022559015816804066),\n",
       " ('share', 0.00022549710892118068),\n",
       " ('patty', 0.00022509976384136712),\n",
       " ('fi', 0.0002247785345091392),\n",
       " ('certain', 0.0002245362268128745),\n",
       " ('stingy', 0.00022396413656478712),\n",
       " ('washington', 0.0002239331410666167),\n",
       " ('mac', 0.00022387914094321133),\n",
       " ('sell', 0.00022387431263312898),\n",
       " ('4th', 0.00022383649775198307),\n",
       " ('bare', 0.00022379086846460185),\n",
       " ('mistake', 0.00022376438906929633),\n",
       " ('confirm', 0.00022332635835865708),\n",
       " ('bear', 0.00022312471632413152),\n",
       " ('2395', 0.0002229386527482796),\n",
       " ('case', 0.0002225303999168072),\n",
       " ('biscottilike', 0.00022252718209336735),\n",
       " ('cardboard', 0.00022227890857677676),\n",
       " ('clear', 0.0002220698626307309),\n",
       " ('feed', 0.00022198430438229898),\n",
       " ('generator', 0.0002218665348393888),\n",
       " ('touch', 0.0002217639637313945),\n",
       " ('spinach', 0.00022168597864009483),\n",
       " ('consist', 0.00022080521048142027),\n",
       " ('rubber', 0.00021956802711937045),\n",
       " ('guarantee', 0.00021938132310608206),\n",
       " ('accidentally', 0.00021865776604341713),\n",
       " ('somewhat', 0.00021853499800350288),\n",
       " ('additionally', 0.00021843959337926002),\n",
       " ('doubt', 0.0002180875366999223),\n",
       " ('future', 0.00021778901093220252),\n",
       " ('le', 0.00021778269446328703),\n",
       " ('photo', 0.00021677984346713555),\n",
       " ('idiot', 0.0002162232435519485),\n",
       " ('rare', 0.00021619091147018714),\n",
       " ('ugh', 0.00021573885836297048),\n",
       " ('blend', 0.00021526845018369464),\n",
       " ('minuscule', 0.00021520493593167985),\n",
       " ('non', 0.00021482041051634583),\n",
       " ('broken', 0.00021470766077695514),\n",
       " ('french', 0.0002145481528979536),\n",
       " ('watermelon', 0.00021367136852877653),\n",
       " ('security', 0.00021293811563288036),\n",
       " ('broth', 0.00021248521193533028),\n",
       " ('low', 0.0002119047934086107),\n",
       " ('unless', 0.0002098436485456859),\n",
       " ('child', 0.00020934722298898565),\n",
       " ('rib', 0.0002092201069542815),\n",
       " ('dragon', 0.00020911527712148253),\n",
       " ('ayame', 0.0002089535238418437),\n",
       " ('ounce', 0.00020845948753145496),\n",
       " ('overcharge', 0.00020824742712646183),\n",
       " ('male', 0.00020816199790945757),\n",
       " ('cockroach', 0.00020778758550785362),\n",
       " ('heart', 0.00020652472246789132),\n",
       " ('curry', 0.00020644386301588142),\n",
       " ('decoroutside', 0.0002061132254831949),\n",
       " ('qualify', 0.00020605862509977442),\n",
       " ('drive', 0.0002059546871805416),\n",
       " ('number', 0.0002057706809078934),\n",
       " ('canseriously', 0.00020534742407343778),\n",
       " ('carry', 0.0002051455098777868),\n",
       " ('press', 0.0002046821951727811),\n",
       " ('heavy', 0.00020466040632725332),\n",
       " ('rest', 0.00020462408381746806),\n",
       " ('job', 0.00020460726753870483),\n",
       " ('smile', 0.00020438747862742154),\n",
       " ('chef', 0.00020390931334778828),\n",
       " ('epress', 0.00020366753651278547),\n",
       " ('ravioli', 0.00020364231568744686),\n",
       " ('chop', 0.000203268632575557),\n",
       " ('middle', 0.00020285700396314627),\n",
       " ('consistency', 0.00020230337988623844),\n",
       " ('understanding', 0.00020185047996170019),\n",
       " ('bone', 0.00020150925139758742),\n",
       " ('bruschetta', 0.00020107368499165383),\n",
       " ('bo', 0.0002009308445781895),\n",
       " ('cuisine', 0.00020081782444122595),\n",
       " ('inconsistent', 0.00020064931036367252),\n",
       " ('scoop', 0.00020063755693404644),\n",
       " ('company', 0.00020044954392807828),\n",
       " ('penne', 0.00020038841812795638),\n",
       " ('birthday', 0.00020015056047583004),\n",
       " ('etende', 0.00019975592637690997),\n",
       " ('pub', 0.0001997511964600086),\n",
       " ('green', 0.00019971344549136764),\n",
       " ('mini', 0.00019892181264279853),\n",
       " ('yes', 0.00019889773575577506),\n",
       " ('yellow', 0.00019882777186436517),\n",
       " ('incredible', 0.00019816316692886624),\n",
       " ('affordable', 0.0001981115215237534),\n",
       " ('separate', 0.00019748930306851394),\n",
       " ('hunan', 0.00019739675424714176),\n",
       " ('dump', 0.0001972296669684277),\n",
       " ('barstool', 0.00019722015112479168),\n",
       " ('supporter', 0.00019701356714957218),\n",
       " ('shitty', 0.00019649579639304557),\n",
       " ('sauceboth', 0.00019463770342244787),\n",
       " ('wife', 0.00019449997333288008),\n",
       " ('bun', 0.0001940118493257986),\n",
       " ('soy', 0.0001937548112925033),\n",
       " ('boat', 0.00019370354735106024),\n",
       " ('forgettable', 0.00019302171992345007),\n",
       " ('normally', 0.0001927253530824173),\n",
       " ('precious', 0.0001925616844856069),\n",
       " ('benny', 0.0001925597167050776),\n",
       " ('dozzino', 0.00019255588240089762),\n",
       " ('typical', 0.0001925491009708513),\n",
       " ('pandemic', 0.00019253408223436714),\n",
       " ('tel', 0.00019212703287202585),\n",
       " ('warn', 0.00019201947928454871),\n",
       " ('slightly', 0.0001916807799111999),\n",
       " ('morning', 0.0001916794751235437),\n",
       " ('hungry', 0.00019159493114841855),\n",
       " ('malta', 0.00019099496019286423),\n",
       " ('jukebo', 0.00019064901629000774),\n",
       " ('ecuse', 0.00019059037543791785),\n",
       " ('dressing', 0.00019050774582885137),\n",
       " ('horrendous', 0.00019039865829518864),\n",
       " ('spread', 0.00019009818885002132),\n",
       " ('bargood', 0.0001900816915047027),\n",
       " ('require', 0.00018892143237894974),\n",
       " ('major', 0.00018878281981665632),\n",
       " ('mussle', 0.00018845083310089754),\n",
       " ('quantity', 0.0001884269969566486),\n",
       " ('sink', 0.00018761830803704318),\n",
       " ('gooverpricedpoor', 0.00018724717368555032),\n",
       " ('welcome', 0.0001870670733089143),\n",
       " ('override', 0.00018669603103762145),\n",
       " ('crave', 0.00018555845951002324),\n",
       " ('acoustic', 0.00018503621940366578),\n",
       " ('550', 0.0001849738814666926),\n",
       " ('cream', 0.00018492659054009173),\n",
       " ('truck', 0.00018464863726264),\n",
       " ('booth', 0.0001844196183407436),\n",
       " ('spacious', 0.00018440894052568685),\n",
       " ('fraud', 0.0001840464817467094),\n",
       " ('section', 0.0001838610985207544),\n",
       " ('peanut', 0.00018368342422609828),\n",
       " ('god', 0.0001831845971752115),\n",
       " ('crunchy', 0.00018296861007654374),\n",
       " ('standard', 0.0001827735020149201),\n",
       " ('setup', 0.00018258331926916953),\n",
       " ('note', 0.00018220472173351415),\n",
       " ('overly', 0.00018127333135423856),\n",
       " ('doubtful', 0.00018091249500947526),\n",
       " ('operate', 0.0001808538348828977),\n",
       " ('thai', 0.00018063323807408007),\n",
       " ('daysnot', 0.00018039637763307494),\n",
       " ('aok', 0.0001802150057369554),\n",
       " ('lackingyou', 0.0001799924277998849),\n",
       " ('correct', 0.00017997578887469622),\n",
       " ('seafood', 0.00017993402306653032),\n",
       " ('strive', 0.0001794259724210165),\n",
       " ('unremarkable', 0.00017920479325569822),\n",
       " ('oil', 0.00017918045976289684),\n",
       " ('grease', 0.00017870677806019835),\n",
       " ('wewill', 0.00017817199452907284),\n",
       " ('aware', 0.0001778224456156447),\n",
       " ('nyc', 0.00017760241449477285),\n",
       " ('effort', 0.00017708779411626394),\n",
       " ('nah', 0.00017633463339678017),\n",
       " ('proceed', 0.00017617885901108737),\n",
       " ('kinda', 0.00017601760833778368),\n",
       " ('recently', 0.0001759027570495578),\n",
       " ('quote', 0.00017589378500463214),\n",
       " ('mozzarella', 0.00017560047801290152),\n",
       " ('prosciutto', 0.0001755716502923044),\n",
       " ('meican', 0.00017497645558416696),\n",
       " ('weekend', 0.00017476983359712733),\n",
       " ('sort', 0.00017467462289571544),\n",
       " ('reviewer', 0.00017432566729605323),\n",
       " ('orange', 0.00017393744849870658),\n",
       " ('waitersreason', 0.0001737667037356093),\n",
       " ('meh', 0.00017372484540011213),\n",
       " ('thursday', 0.00017294580137920394),\n",
       " ('error', 0.00017263778341628042),\n",
       " ('11', 0.0001725491195606377),\n",
       " ('boy', 0.00017243329283267455),\n",
       " ('pricey', 0.00017204679308912521),\n",
       " ('bucatini', 0.0001719710072823849),\n",
       " ('scale', 0.00017195069751592496),\n",
       " ('backthe', 0.000171391071831811),\n",
       " ('obagel', 0.00017133966654128382),\n",
       " ('toast', 0.00017104013096449575),\n",
       " ('mushroom', 0.0001706427945024083),\n",
       " ('margarita', 0.0001705729557674801),\n",
       " ('pita', 0.00017052420101728642),\n",
       " ('event', 0.00016976222423520655),\n",
       " ('energy', 0.00016950742086334854),\n",
       " ('smhand', 0.0001692548550705444),\n",
       " ('strong', 0.00016913992978467984),\n",
       " ('atrocious', 0.00016868816000970458),\n",
       " ('confirmation', 0.00016828110737952983),\n",
       " ('ta', 0.00016821340122095691),\n",
       " ('addition', 0.00016777014033274803),\n",
       " ('charred', 0.00016776753617507025),\n",
       " ('pull', 0.00016769371664071122),\n",
       " ('bacon', 0.00016760379379965486),\n",
       " ('70', 0.00016743226466946085),\n",
       " ('kick', 0.00016737411223151393),\n",
       " ('single', 0.0001673076087318804),\n",
       " ('wonderful', 0.00016695477789920767),\n",
       " ('cashier', 0.00016676039704310332),\n",
       " ('noneistent', 0.0001664953894388134),\n",
       " ('2000', 0.00016628619670793952),\n",
       " ('charrito', 0.0001662303962132425),\n",
       " ('beansrude', 0.00016581695348582095),\n",
       " ('arugula', 0.0001656796570975334),\n",
       " ('practically', 0.00016561064581802117),\n",
       " ('recommendation', 0.0001655327049440487),\n",
       " ('butaside', 0.00016534619919532416),\n",
       " ('apparent', 0.00016494861257401072),\n",
       " ('wow', 0.00016457602315908242),\n",
       " ('hire', 0.0001645527833211806),\n",
       " ('blog', 0.0001642305847629533),\n",
       " ('presidente', 0.00016392340528988407),\n",
       " ('instrumental', 0.0001638187305487681),\n",
       " ('level', 0.00016359818242336227),\n",
       " ('heat', 0.00016332638189417862),\n",
       " ('dine', 0.00016325185339312643),\n",
       " ('dripping', 0.00016298478495792526),\n",
       " ('cobb', 0.000162935064439357),\n",
       " ...]"
      ]
     },
     "execution_count": 290,
     "metadata": {},
     "output_type": "execute_result"
    }
   ],
   "source": [
    "feature_importance = clf.feature_importances_\n",
    "rank = np.argsort(feature_importance)\n",
    "vector_idx_to_vocab = vectorizer.get_feature_names_out()\n",
    "vocab_ranked = zip(np.append(vector_idx_to_vocab, \"pre-/post-covid\"), feature_importance)\n",
    "vocab_sorted = sorted(vocab_ranked, key = lambda x: x[1], reverse=True)\n",
    "vocab_sorted"
   ]
  },
  {
   "cell_type": "markdown",
   "metadata": {},
   "source": [
    "## Transfer Learning with BERT\n",
    "Re-label the data for modeling"
   ]
  },
  {
   "cell_type": "code",
   "execution_count": 146,
   "metadata": {},
   "outputs": [],
   "source": [
    "df_latest = pd.read_csv(\"final_postcovid.csv\", parse_dates=['date'], date_parser=custom_date_parser)\n",
    "df_earliest = pd.read_csv(\"final_precovid.csv\", parse_dates=['date'], date_parser=custom_date_parser)\n",
    "df_latest[\"Rating\"].replace({\"1 star rating\": 0, \"2 star rating\": 0, \"4 star rating\": 1, \"5 star rating\": 1}, inplace=True)\n",
    "df_earliest[\"Rating\"].replace({\"1 star rating\": 0, \"2 star rating\": 0, \"4 star rating\": 1, \"5 star rating\": 1}, inplace=True)\n",
    "df_latest = df_latest[df_latest['Rating'] != '3 star rating']\n",
    "df_earliest = df_earliest[df_earliest['Rating'] != '3 star rating']\n",
    "\n",
    "df = pd.concat([df_latest[['Comment', 'Rating']], df_earliest[['Comment', 'Rating']]])\n",
    "X_train, X_test, y_train, y_test = train_test_split(df['Comment'], df['Rating'].astype(\"int\"), \n",
    "                                                    test_size = 0.20, random_state = 42)"
   ]
  },
  {
   "cell_type": "code",
   "execution_count": 147,
   "metadata": {},
   "outputs": [],
   "source": [
    "def bert_encode(texts, tokenizer, max_len=512):\n",
    "    all_tokens = []\n",
    "    masks = []\n",
    "    segments = []\n",
    "    \n",
    "    for text in texts:\n",
    "        text = tokenizer.tokenize(text)\n",
    "            \n",
    "        text = text[:max_len-2]\n",
    "        input_sequence = [\"[CLS]\"] + text + [\"[SEP]\"]\n",
    "        pad_len = max_len - len(input_sequence)\n",
    "        \n",
    "        tokens = tokenizer.convert_tokens_to_ids(input_sequence)\n",
    "        tokens += [0] * pad_len\n",
    "        pad_masks = [1] * len(input_sequence) + [0] * pad_len\n",
    "        segment_ids = [0] * max_len\n",
    "        \n",
    "        all_tokens.append(tokens)\n",
    "        masks.append(pad_masks)\n",
    "        segments.append(segment_ids)\n",
    "    \n",
    "    return np.array(all_tokens), np.array(masks), np.array(segments)"
   ]
  },
  {
   "cell_type": "markdown",
   "metadata": {},
   "source": [
    "The model is downloaded from: https://tfhub.dev/tensorflow/bert_en_uncased_L-12_H-768_A-12/1"
   ]
  },
  {
   "cell_type": "code",
   "execution_count": 148,
   "metadata": {},
   "outputs": [],
   "source": [
    "import tensorflow as tf\n",
    "import tensorflow_hub as hub\n",
    "\n",
    "hub_url = 'https://tfhub.dev/tensorflow/bert_en_uncased_L-12_H-768_A-12/1'\n",
    "bert_layer = hub.KerasLayer(hub_url, trainable=True)"
   ]
  },
  {
   "cell_type": "code",
   "execution_count": 149,
   "metadata": {},
   "outputs": [],
   "source": [
    "to_lower_case = bert_layer.resolved_object.do_lower_case.numpy()\n",
    "vocabulary = bert_layer.resolved_object.vocab_file.asset_path.numpy()"
   ]
  },
  {
   "cell_type": "markdown",
   "metadata": {},
   "source": [
    "Tokenize texts with external script "
   ]
  },
  {
   "cell_type": "code",
   "execution_count": 150,
   "metadata": {},
   "outputs": [],
   "source": [
    "import tokenizations\n",
    "\n",
    "F_tokenizer = tokenizations.FullTokenizer\n",
    "\n",
    "tokenizer = F_tokenizer(vocabulary, to_lower_case)"
   ]
  },
  {
   "cell_type": "code",
   "execution_count": 151,
   "metadata": {},
   "outputs": [],
   "source": [
    "def build_model(bert_layer, max_len=512):\n",
    "    \n",
    "    input_word_ids = Input(shape = (max_len,), dtype = tf.int32, name = \"input_word_ids\")\n",
    "    input_mask = Input(shape = (max_len,), dtype = tf.int32, name = \"input_mask\")\n",
    "    segment_ids = Input(shape = (max_len,), dtype = tf.int32, name = \"segment_ids\")\n",
    "\n",
    "    pooled_sequence, sequence_output = bert_layer([input_word_ids, input_mask, segment_ids])\n",
    "    clf_output = sequence_output[:, 0, :]\n",
    "    output = Dense(2, activation='softmax')(clf_output)\n",
    "    \n",
    "    model = Model(inputs=[input_word_ids, input_mask, segment_ids], outputs = output)\n",
    "    model.compile(Adam(lr=1e-5), loss = 'sparse_categorical_crossentropy', metrics = ['accuracy'])\n",
    "    \n",
    "    return model"
   ]
  },
  {
   "cell_type": "code",
   "execution_count": 152,
   "metadata": {},
   "outputs": [
    {
     "data": {
      "text/plain": [
       "4325"
      ]
     },
     "execution_count": 152,
     "metadata": {},
     "output_type": "execute_result"
    }
   ],
   "source": [
    "max_length = len(max(df.Comment, key=len))\n",
    "max_length"
   ]
  },
  {
   "cell_type": "code",
   "execution_count": 153,
   "metadata": {},
   "outputs": [],
   "source": [
    "# train_input = bert_encode(df_latest_train.Comment.values, tokenizer, max_len=200)\n",
    "train_input = bert_encode(X_train, tokenizer, max_len=250)\n",
    "test_input = bert_encode(X_test, tokenizer, max_len=250)\n",
    "# train_labels = df_latest_train['Rating'].values\n",
    "train_labels = y_train.values"
   ]
  },
  {
   "cell_type": "markdown",
   "metadata": {},
   "source": [
    "We set the max length to be 250 to avoid the waste of time for training (most reviews don't have so many words)"
   ]
  },
  {
   "cell_type": "code",
   "execution_count": 156,
   "metadata": {},
   "outputs": [
    {
     "name": "stdout",
     "output_type": "stream",
     "text": [
      "Model: \"model\"\n",
      "__________________________________________________________________________________________________\n",
      "Layer (type)                    Output Shape         Param #     Connected to                     \n",
      "==================================================================================================\n",
      "input_word_ids (InputLayer)     [(None, 250)]        0                                            \n",
      "__________________________________________________________________________________________________\n",
      "input_mask (InputLayer)         [(None, 250)]        0                                            \n",
      "__________________________________________________________________________________________________\n",
      "segment_ids (InputLayer)        [(None, 250)]        0                                            \n",
      "__________________________________________________________________________________________________\n",
      "keras_layer_1 (KerasLayer)      [(None, 768), (None, 109482241   input_word_ids[0][0]             \n",
      "                                                                 input_mask[0][0]                 \n",
      "                                                                 segment_ids[0][0]                \n",
      "__________________________________________________________________________________________________\n",
      "tf.__operators__.getitem_1 (Sli (None, 768)          0           keras_layer_1[1][1]              \n",
      "__________________________________________________________________________________________________\n",
      "dense_6 (Dense)                 (None, 2)            1538        tf.__operators__.getitem_1[0][0] \n",
      "==================================================================================================\n",
      "Total params: 109,483,779\n",
      "Trainable params: 109,483,778\n",
      "Non-trainable params: 1\n",
      "__________________________________________________________________________________________________\n"
     ]
    },
    {
     "name": "stderr",
     "output_type": "stream",
     "text": [
      "c:\\users\\w2673\\appdata\\local\\programs\\python\\python37\\lib\\site-packages\\keras\\optimizer_v2\\optimizer_v2.py:356: UserWarning: The `lr` argument is deprecated, use `learning_rate` instead.\n",
      "  \"The `lr` argument is deprecated, use `learning_rate` instead.\")\n"
     ]
    }
   ],
   "source": [
    "from tensorflow.keras.layers import Dense, Input, Dropout, GlobalAveragePooling1D\n",
    "from tensorflow.keras.optimizers import Adam\n",
    "from tensorflow.keras.models import Model\n",
    "from tensorflow.keras.callbacks import ModelCheckpoint\n",
    "\n",
    "model = build_model(bert_layer, max_len=250)\n",
    "model.summary()"
   ]
  },
  {
   "cell_type": "markdown",
   "metadata": {},
   "source": [
    "Only one epoch is done since it's really time consuming"
   ]
  },
  {
   "cell_type": "code",
   "execution_count": 157,
   "metadata": {},
   "outputs": [
    {
     "name": "stdout",
     "output_type": "stream",
     "text": [
      "159/159 [==============================] - 2583s 16s/step - loss: 0.2036 - accuracy: 0.9142 - val_loss: 0.0924 - val_accuracy: 0.9703\n"
     ]
    }
   ],
   "source": [
    "checkpoint = ModelCheckpoint('model_softmax_undersampling_binary_with_stopwords_epoch1.h5', monitor = 'val_loss', save_best_only = True)\n",
    "train_history = model.fit(train_input, train_labels, validation_split = 0.25, epochs = 1, callbacks = [checkpoint], batch_size = 16)"
   ]
  },
  {
   "cell_type": "code",
   "execution_count": 158,
   "metadata": {},
   "outputs": [],
   "source": [
    "test_input = bert_encode(X_test, tokenizer, max_len=250)\n",
    "model.load_weights('model_softmax_undersampling_binary_with_stopwords_epoch1.h5')\n",
    "test_raw_pred = model.predict(test_input)\n",
    "test_pred = np.argmax(test_raw_pred, axis=1)"
   ]
  },
  {
   "cell_type": "code",
   "execution_count": 159,
   "metadata": {},
   "outputs": [
    {
     "name": "stdout",
     "output_type": "stream",
     "text": [
      "              precision    recall  f1-score   support\n",
      "\n",
      "  bad rating       0.87      0.97      0.92       193\n",
      " good rating       0.99      0.96      0.97       651\n",
      "\n",
      "    accuracy                           0.96       844\n",
      "   macro avg       0.93      0.97      0.95       844\n",
      "weighted avg       0.97      0.96      0.96       844\n",
      "\n"
     ]
    }
   ],
   "source": [
    "from sklearn.metrics import classification_report\n",
    "\n",
    "target_names = ['bad rating', 'good rating']\n",
    "print(classification_report(y_test.astype(\"int\"), test_pred, target_names=target_names))"
   ]
  },
  {
   "cell_type": "code",
   "execution_count": null,
   "metadata": {},
   "outputs": [],
   "source": []
  }
 ],
 "metadata": {
  "kernelspec": {
   "display_name": "Python 3",
   "language": "python",
   "name": "python3"
  },
  "language_info": {
   "codemirror_mode": {
    "name": "ipython",
    "version": 3
   },
   "file_extension": ".py",
   "mimetype": "text/x-python",
   "name": "python",
   "nbconvert_exporter": "python",
   "pygments_lexer": "ipython3",
   "version": "3.7.3"
  }
 },
 "nbformat": 4,
 "nbformat_minor": 2
}
